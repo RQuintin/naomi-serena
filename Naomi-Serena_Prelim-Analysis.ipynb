{
 "cells": [
  {
   "cell_type": "markdown",
   "metadata": {},
   "source": [
    "# Naomi Osaka Sentiment Analysis: Preliminary Data Collection\n",
    "## September 13, 2018\n",
    "\n",
    "This is a Twitter sentiment analysis project, based off of a similar project seen [here](http://jayascript.io/projects/stydia-rising/). For the Stydia Rising project, I took some time to play around with data collection to make sure I could get the information I needed. This is that very same Step 0.\n",
    "\n",
    "### Pythton 2.X\n",
    "It's good that I went ahead to try and do this, because I realized that the program assumes use of Python 2.X. At the time, I was using 2.6, and 3 wasn't being taugth too often just yet. Now, 3 is pretty much standard, but I've still got this old script hanging around.\n",
    "\n",
    "I'm going to see if it's been updated to work with Python3, and if not, I'm going to have to patch it together myself."
   ]
  },
  {
   "cell_type": "code",
   "execution_count": 1,
   "metadata": {},
   "outputs": [],
   "source": [
    "import sys\n",
    "sys.path.append(\"C:/Users/jzpow/Code/GetOldTweets-python-master\")"
   ]
  },
  {
   "cell_type": "code",
   "execution_count": 2,
   "metadata": {},
   "outputs": [],
   "source": [
    "import got3"
   ]
  },
  {
   "cell_type": "code",
   "execution_count": 3,
   "metadata": {},
   "outputs": [
    {
     "name": "stdout",
     "output_type": "stream",
     "text": [
      "Help on package got3:\n",
      "\n",
      "NAME\n",
      "    got3\n",
      "\n",
      "PACKAGE CONTENTS\n",
      "    manager (package)\n",
      "    models (package)\n",
      "\n",
      "FILE\n",
      "    c:\\users\\jzpow\\code\\getoldtweets-python-master\\got3\\__init__.py\n",
      "\n",
      "\n"
     ]
    }
   ],
   "source": [
    "help(got3)"
   ]
  },
  {
   "cell_type": "markdown",
   "metadata": {},
   "source": [
    "The `help()` module didn't really... help me. Lol. So I just inspected the docs directly.\n",
    "\n",
    "The folder setup seems a bit messy to me, but hey, I've never written a Python package, so what do I know?\n",
    "\n",
    "I think there could be a way for me to write a script that would pass user-specified inputs to TweetCriteria instead of manually inputting them, but for now, we'll do it on our own.\n",
    "\n",
    "Here's their example:"
   ]
  },
  {
   "cell_type": "markdown",
   "metadata": {},
   "source": [
    "## Official Examples"
   ]
  },
  {
   "cell_type": "code",
   "execution_count": 4,
   "metadata": {},
   "outputs": [
    {
     "name": "stdout",
     "output_type": "stream",
     "text": [
      "### Example 1 - Get tweets by username [barackobama]\n",
      "Username: \n",
      "Retweets: 140999\n",
      "Text: We will always remember everyone we lost on 9/11, thank the first responders who keep us safe, and honor all who defend our country and the ideals that bind us together. There's nothing our resilience and resolve can’t overcome, and no act of terror can ever change who we are.\n",
      "Mentions: \n",
      "Hashtags: \n",
      "\n"
     ]
    }
   ],
   "source": [
    "def printTweet(descr, t):\n",
    "    print(descr)\n",
    "    print(\"Username: %s\" % t.username)\n",
    "    print(\"Retweets: %d\" % t.retweets)\n",
    "    print(\"Text: %s\" % t.text)\n",
    "    print(\"Mentions: %s\" % t.mentions)\n",
    "    print(\"Hashtags: %s\\n\" % t.hashtags)\n",
    "\n",
    "# Example 1 - Get tweets by username\n",
    "tweetCriteria = got3.manager.TweetCriteria().setUsername('barackobama').setMaxTweets(1)\n",
    "tweet = got3.manager.TweetManager.getTweets(tweetCriteria)[0]\n",
    "\n",
    "printTweet(\"### Example 1 - Get tweets by username [barackobama]\", tweet)"
   ]
  },
  {
   "cell_type": "code",
   "execution_count": 5,
   "metadata": {},
   "outputs": [
    {
     "name": "stdout",
     "output_type": "stream",
     "text": [
      "### Example 2 - Get tweets by query search [europe refugees]\n",
      "Username: \n",
      "Retweets: 0\n",
      "Text: [106] Europe's Refugees & American Elections w/ Chris Hedges https://youtu.be/GYqgj3l4r18 via @ YouTube\n",
      "Mentions: @\n",
      "Hashtags: \n",
      "\n"
     ]
    }
   ],
   "source": [
    "# Example 2 - Get tweets by query search\n",
    "tweetCriteria = got3.manager.TweetCriteria().setQuerySearch('europe refugees').setSince(\"2015-05-01\").setUntil(\"2015-09-30\").setMaxTweets(1)\n",
    "tweet = got3.manager.TweetManager.getTweets(tweetCriteria)[0]\n",
    "\n",
    "printTweet(\"### Example 2 - Get tweets by query search [europe refugees]\", tweet)\n"
   ]
  },
  {
   "cell_type": "code",
   "execution_count": 6,
   "metadata": {},
   "outputs": [
    {
     "name": "stdout",
     "output_type": "stream",
     "text": [
      "### Example 3 - Get tweets by username and bound dates [barackobama, '2015-09-10', '2015-09-12']\n",
      "Username: \n",
      "Retweets: 6534\n",
      "Text: \"The events of September 11, 2001, left a permanent mark on the spirit of every American.\" —President Obamapic.twitter.com/oob3Hc0vmi\n",
      "Mentions: \n",
      "Hashtags: \n",
      "\n"
     ]
    }
   ],
   "source": [
    "# Example 3 - Get tweets by username and bound dates\n",
    "tweetCriteria = got3.manager.TweetCriteria().setUsername(\"barackobama\").setSince(\"2015-09-10\").setUntil(\"2015-09-12\").setMaxTweets(1)\n",
    "tweet = got3.manager.TweetManager.getTweets(tweetCriteria)[0]\n",
    "\n",
    "printTweet(\"### Example 3 - Get tweets by username and bound dates [barackobama, '2015-09-10', '2015-09-12']\", tweet)"
   ]
  },
  {
   "cell_type": "markdown",
   "metadata": {},
   "source": [
    "## My Examples\n",
    "So I'll take a look at a few Tweets with the following search terms: Naomi Osaka and Serena Williams. I expect these search terms to have the most volume. Later I'll bound the date to Saturday, September 8 and then widen the range to include the week after the event."
   ]
  },
  {
   "cell_type": "markdown",
   "metadata": {},
   "source": [
    "### Search Term: Naomi Osaka"
   ]
  },
  {
   "cell_type": "code",
   "execution_count": 7,
   "metadata": {},
   "outputs": [],
   "source": [
    "Search_Naomi = got3.manager.TweetCriteria().setQuerySearch('naomi osaka').setMaxTweets(5)\n",
    "Naomi_tweets = got3.manager.TweetManager.getTweets(Search_Naomi)"
   ]
  },
  {
   "cell_type": "markdown",
   "metadata": {},
   "source": [
    "If I just try to print the results of `Naomi_tweets` I can see that it's an object. In fact, it's a list of several objects: 5 tweet objects for the 5 tweets that I told the program to return:"
   ]
  },
  {
   "cell_type": "code",
   "execution_count": 8,
   "metadata": {},
   "outputs": [
    {
     "name": "stdout",
     "output_type": "stream",
     "text": [
      "[<got3.models.Tweet.Tweet object at 0x000002B3DE20B4A8>, <got3.models.Tweet.Tweet object at 0x000002B3DE20B048>, <got3.models.Tweet.Tweet object at 0x000002B3DE20BA20>, <got3.models.Tweet.Tweet object at 0x000002B3DE20BA58>, <got3.models.Tweet.Tweet object at 0x000002B3DE20B898>]\n"
     ]
    }
   ],
   "source": [
    "print(Naomi_tweets)"
   ]
  },
  {
   "cell_type": "markdown",
   "metadata": {},
   "source": [
    "I have to call the printTweet function to have the contents of the tweet print out in a readable format. I pass the `tweet` argument to the function, which defines how the output should be presented."
   ]
  },
  {
   "cell_type": "code",
   "execution_count": 9,
   "metadata": {},
   "outputs": [
    {
     "name": "stdout",
     "output_type": "stream",
     "text": [
      "5 'Naomi Osaka' tweets\n",
      "Username: \n",
      "Retweets: 0\n",
      "Text: Tennis Star Naomi Osaka Says she Listened to Eminem & Nicki Minaj Before Beating Serena Williams http://bit.ly/2Onocuo pic.twitter.com/rMj0gefk3W\n",
      "Mentions: \n",
      "Hashtags: \n",
      "\n",
      "5 'Naomi Osaka' tweets\n",
      "Username: \n",
      "Retweets: 0\n",
      "Text: jjjj.....\n",
      "Mentions: \n",
      "Hashtags: \n",
      "\n",
      "5 'Naomi Osaka' tweets\n",
      "Username: \n",
      "Retweets: 0\n",
      "Text: 'I almost knocked out Federer!' | Getting to Know Naomi Osaka # TBT https://youtu.be/6rTosh2SvT0 via @ YouTube. Ahahaha\n",
      "Mentions: @\n",
      "Hashtags: #\n",
      "\n",
      "5 'Naomi Osaka' tweets\n",
      "Username: \n",
      "Retweets: 0\n",
      "Text: 1.90’lık kuzenime yapardım bunuhttps://twitter.com/futbolgods34/status/1039943277515100162 …\n",
      "Mentions: \n",
      "Hashtags: \n",
      "\n",
      "5 'Naomi Osaka' tweets\n",
      "Username: \n",
      "Retweets: 0\n",
      "Text: Serena Williams and Naomi Osaka were robbed of the great game they deserved by culture of gender informed racism on the court. Join us in holding the USTA accountable! http://d.shpg.org/444345878t?referring_akid=17964.1644952.ePUanh …\n",
      "Mentions: \n",
      "Hashtags: \n",
      "\n"
     ]
    }
   ],
   "source": [
    "for item in Naomi_tweets:\n",
    "    printTweet(\"5 'Naomi Osaka' tweets\", item)"
   ]
  },
  {
   "cell_type": "markdown",
   "metadata": {},
   "source": [
    "### Search Term: Serena Williams\n",
    "Now we'll do the same for our second search term:"
   ]
  },
  {
   "cell_type": "code",
   "execution_count": 10,
   "metadata": {},
   "outputs": [
    {
     "name": "stdout",
     "output_type": "stream",
     "text": [
      "5 'Serena Williams' tweets\n",
      "Username: \n",
      "Retweets: 0\n",
      "Text: Yeah, you should really watch the video and read a few paragraphs below that one in the Wikipedia article. When I said they invented it, I meant it as we understand it today. There were steam engines before James Watt and Pokemon in 1870, but nobody is refering to those.pic.twitter.com/CNgIXwLoMx\n",
      "Mentions: \n",
      "Hashtags: \n",
      "\n",
      "5 'Serena Williams' tweets\n",
      "Username: \n",
      "Retweets: 0\n",
      "Text: WATCH: Mark Knight, the cartoonist behind the Serena Williams cartoon, defends his controversial caricature of the tennis superstar saying it has 'nothing to do with gender or racism at all'. http://tv.guardian.ng/news/national-news/australian-newspaper-defies-criticism-reprints-serena-williams-cartoon/ … # serenawilliamscartoon\n",
      "Mentions: \n",
      "Hashtags: #\n",
      "\n",
      "5 'Serena Williams' tweets\n",
      "Username: \n",
      "Retweets: 0\n",
      "Text: US Davis Cup players try to stay out of # SerenaWilliams controversy https://goo.gl/enbcCS pic.twitter.com/AD1V9UcJo2\n",
      "Mentions: \n",
      "Hashtags: #\n",
      "\n",
      "5 'Serena Williams' tweets\n",
      "Username: \n",
      "Retweets: 0\n",
      "Text: Tennis Star Naomi Osaka Says she Listened to Eminem & Nicki Minaj Before Beating Serena Williams http://bit.ly/2Onocuo pic.twitter.com/rMj0gefk3W\n",
      "Mentions: \n",
      "Hashtags: \n",
      "\n",
      "5 'Serena Williams' tweets\n",
      "Username: \n",
      "Retweets: 0\n",
      "Text: I liked a @ YouTube video http://youtu.be/CfcQsI54gQM?a Shut Up Serena Williams\n",
      "Mentions: @\n",
      "Hashtags: \n",
      "\n"
     ]
    }
   ],
   "source": [
    "Search_Serena = got3.manager.TweetCriteria().setQuerySearch('serena williams').setMaxTweets(5)\n",
    "Serena_tweets = got3.manager.TweetManager.getTweets(Search_Serena)\n",
    "for item in Serena_tweets:\n",
    "    printTweet(\"5 'Serena Williams' tweets\", item)"
   ]
  },
  {
   "cell_type": "markdown",
   "metadata": {},
   "source": [
    "From what I'm seeing just on these few tweets (which will change depending on when this notebook is run), I've got a few hypotheses I'd like to put forth.\n",
    "\n",
    "First, is that Naomi's tweets are going to be overwhelmingly more positive than Serena's.\n",
    "\n",
    "Second, is that Naomi's tweets are going to be easier to analyze for sentinment than Serena's. Some of the Serena Williams tweets seem to contain traces of sarcasm, so I wonder if this will be harder for a sentiment analysis algorithm to pick up on."
   ]
  },
  {
   "cell_type": "markdown",
   "metadata": {},
   "source": [
    "### Bounded Date: Sept 8, 2018\n",
    "The date this actually occured was Saturday, Sept 8, 2018, so I want to bound the time scale of these tweets and see what kind of data is available for that day."
   ]
  },
  {
   "cell_type": "code",
   "execution_count": 11,
   "metadata": {},
   "outputs": [],
   "source": [
    "Search_Naomi_Sept8 = got3.manager.TweetCriteria().setQuerySearch('naomi osaka').setSince(\"2018-09-08\").setMaxTweets(5)\n",
    "Naomi_Sept8_tweets = got3.manager.TweetManager.getTweets(Search_Naomi_Sept8)\n",
    "\n",
    "Search_Serena_Sept8 = got3.manager.TweetCriteria().setQuerySearch('serena williams').setSince(\"2018-09-08\").setMaxTweets(5)\n",
    "Serena_Sept8_tweets = got3.manager.TweetManager.getTweets(Search_Serena_Sept8)"
   ]
  },
  {
   "cell_type": "code",
   "execution_count": 12,
   "metadata": {},
   "outputs": [
    {
     "name": "stdout",
     "output_type": "stream",
     "text": [
      "September 8th tweets\n",
      "Username: \n",
      "Retweets: 0\n",
      "Text: Tennis Star Naomi Osaka Says she Listened to Eminem & Nicki Minaj Before Beating Serena Williams http://bit.ly/2Onocuo pic.twitter.com/rMj0gefk3W\n",
      "Mentions: \n",
      "Hashtags: \n",
      "\n",
      "September 8th tweets\n",
      "Username: \n",
      "Retweets: 0\n",
      "Text: jjjj.....\n",
      "Mentions: \n",
      "Hashtags: \n",
      "\n",
      "September 8th tweets\n",
      "Username: \n",
      "Retweets: 0\n",
      "Text: 'I almost knocked out Federer!' | Getting to Know Naomi Osaka # TBT https://youtu.be/6rTosh2SvT0 via @ YouTube. Ahahaha\n",
      "Mentions: @\n",
      "Hashtags: #\n",
      "\n",
      "September 8th tweets\n",
      "Username: \n",
      "Retweets: 0\n",
      "Text: 1.90’lık kuzenime yapardım bunuhttps://twitter.com/futbolgods34/status/1039943277515100162 …\n",
      "Mentions: \n",
      "Hashtags: \n",
      "\n",
      "September 8th tweets\n",
      "Username: \n",
      "Retweets: 0\n",
      "Text: Serena Williams and Naomi Osaka were robbed of the great game they deserved by culture of gender informed racism on the court. Join us in holding the USTA accountable! http://d.shpg.org/444345878t?referring_akid=17964.1644952.ePUanh …\n",
      "Mentions: \n",
      "Hashtags: \n",
      "\n"
     ]
    }
   ],
   "source": [
    "for item in Naomi_Sept8_tweets:\n",
    "    printTweet(\"September 8th tweets\", item)"
   ]
  },
  {
   "cell_type": "code",
   "execution_count": 13,
   "metadata": {},
   "outputs": [
    {
     "name": "stdout",
     "output_type": "stream",
     "text": [
      "September 8th tweets\n",
      "Username: \n",
      "Retweets: 0\n",
      "Text: Yeah, you should really watch the video and read a few paragraphs below that one in the Wikipedia article. When I said they invented it, I meant it as we understand it today. There were steam engines before James Watt and Pokemon in 1870, but nobody is refering to those.pic.twitter.com/CNgIXwLoMx\n",
      "Mentions: \n",
      "Hashtags: \n",
      "\n",
      "September 8th tweets\n",
      "Username: \n",
      "Retweets: 0\n",
      "Text: WATCH: Mark Knight, the cartoonist behind the Serena Williams cartoon, defends his controversial caricature of the tennis superstar saying it has 'nothing to do with gender or racism at all'. http://tv.guardian.ng/news/national-news/australian-newspaper-defies-criticism-reprints-serena-williams-cartoon/ … # serenawilliamscartoon\n",
      "Mentions: \n",
      "Hashtags: #\n",
      "\n",
      "September 8th tweets\n",
      "Username: \n",
      "Retweets: 0\n",
      "Text: US Davis Cup players try to stay out of # SerenaWilliams controversy https://goo.gl/enbcCS pic.twitter.com/AD1V9UcJo2\n",
      "Mentions: \n",
      "Hashtags: #\n",
      "\n",
      "September 8th tweets\n",
      "Username: \n",
      "Retweets: 0\n",
      "Text: Tennis Star Naomi Osaka Says she Listened to Eminem & Nicki Minaj Before Beating Serena Williams http://bit.ly/2Onocuo pic.twitter.com/rMj0gefk3W\n",
      "Mentions: \n",
      "Hashtags: \n",
      "\n",
      "September 8th tweets\n",
      "Username: \n",
      "Retweets: 0\n",
      "Text: I liked a @ YouTube video http://youtu.be/CfcQsI54gQM?a Shut Up Serena Williams\n",
      "Mentions: @\n",
      "Hashtags: \n",
      "\n"
     ]
    }
   ],
   "source": [
    "for item in Serena_Sept8_tweets:\n",
    "    printTweet(\"September 8th tweets\", item)"
   ]
  },
  {
   "cell_type": "markdown",
   "metadata": {},
   "source": [
    "It seems my earlier hunch was right. For the tweets I pulled today on the 13th of September 2018, Naomi's tweets are filled with words like \"adorable,\" \"cute\" and \"refreshing,\" whereas Serena's tweets say \"shut up,\" \"lost\" and \"racist.\"\n",
    "\n",
    "When running this notebook anew, the populated tweets will change--but even after running it myself a couple times, the overall impression remains the same: Many people seem to like Naomi Osaka more than Serena Williams.\n",
    "\n",
    "This is sure to be an interesting analysis!"
   ]
  },
  {
   "cell_type": "markdown",
   "metadata": {},
   "source": [
    "## English and Japanese\n",
    "One final thing I want to do is make sure the tweets I'm getting are in a language I can understand.\n",
    "\n",
    "Because of the nationality of these two women, the languages that are most likely to be used are English and Japanese. When running the outputs above, sometimes it's possible to get tweets in other languages that I don't speak. So let's pull a few and constrain them on `lang` and see what sort of output we get."
   ]
  },
  {
   "cell_type": "code",
   "execution_count": 27,
   "metadata": {},
   "outputs": [],
   "source": [
    "Search_Naomi_JP = got3.manager.TweetCriteria().setQuerySearch('naomi osaka').setSince(\"2018-09-12\").setLang(\"jp\").setMaxTweets(5)\n",
    "Naomi_JP_tweets = got3.manager.TweetManager.getTweets(Search_Naomi_JP)"
   ]
  },
  {
   "cell_type": "code",
   "execution_count": 28,
   "metadata": {},
   "outputs": [
    {
     "name": "stdout",
     "output_type": "stream",
     "text": [
      "Tweets By Lang\n",
      "Username: \n",
      "Retweets: 0\n",
      "Text: La derrota ante la japonesa Naomi Osaka e inadecuado manejo de Serena Williams en el US Open deja varias enseñanzas: 1-Toda gloria es pasajera 2-Hay que saber perder 3-La importancia de la inteligencia emocional # Reflexion # LaVida # NaomiOsaka # SerenaWilliams # USOpenpic.twitter.com/a258aeJBC5\n",
      "Mentions: \n",
      "Hashtags: # # # # #\n",
      "\n",
      "Tweets By Lang\n",
      "Username: \n",
      "Retweets: 0\n",
      "Text: Do u have anything from the present generation of players. Why focus on old man now.\n",
      "Mentions: \n",
      "Hashtags: \n",
      "\n",
      "Tweets By Lang\n",
      "Username: \n",
      "Retweets: 0\n",
      "Text: Here's what Serena Williams whispered to Naomi Osaka after the U.S. Open final https://trib.al/gXt23Hf\n",
      "Mentions: \n",
      "Hashtags: \n",
      "\n",
      "Tweets By Lang\n",
      "Username: \n",
      "Retweets: 0\n",
      "Text: So Many @ WTA players (Past & Current) congratulating Naomi Osaka, NOT because Naomi won @ usopen Title or her first GS title, but bec of their gripe with Serena! HOW MANY OF THEM CONGRATULATED Simona Halep? Or congratulated SS? Well, HOPE Naomi is fully aware of FALSE PROPHETS!\n",
      "Mentions: @ @\n",
      "Hashtags: \n",
      "\n",
      "Tweets By Lang\n",
      "Username: \n",
      "Retweets: 0\n",
      "Text: Here are your male tennis players acting like angels: https://www.facebook.com/christopher.ates/videos/2030568290307131/UzpfSTEwMDAwMTY2OTI3MzI0NToxOTExNzgzNjYyMjIwNTkx/?fb_dtsg_ag=Ady2eYjk5NhjPmii0Vbjpfo_C5zNAW5LPot4jqIXW_Y1OA%3AAdwJn49dxZ91CmwQCvPWggHWFvdtAqjWi2Hicw1Ke75EPA …\n",
      "Mentions: \n",
      "Hashtags: \n",
      "\n"
     ]
    }
   ],
   "source": [
    "for item in Naomi_JP_tweets:\n",
    "    printTweet(\"Tweets By Lang\", item)"
   ]
  },
  {
   "cell_type": "markdown",
   "metadata": {},
   "source": [
    "This doesn't seem to be quite working out the way I'd like it to, so I'll have to find a better workaround later.\n",
    "\n",
    "Actually, I think I've got the workaround! Instead of trying to filter on lang, I can just change the search criteria to the Japanese versions of each term. So let's see how that works out!"
   ]
  },
  {
   "cell_type": "code",
   "execution_count": 29,
   "metadata": {},
   "outputs": [],
   "source": [
    "Search_Naomi_JP = got3.manager.TweetCriteria().setQuerySearch('大阪なおみ').setSince(\"2018-09-12\").setMaxTweets(5)\n",
    "Naomi_JP_tweets = got3.manager.TweetManager.getTweets(Search_Naomi_JP)\n",
    "\n",
    "Search_Serena_JP = got3.manager.TweetCriteria().setQuerySearch('セレナウィリアムズ').setSince(\"2018-09-12\").setMaxTweets(5)\n",
    "Serena_JP_tweets = got3.manager.TweetManager.getTweets(Search_Serena_JP)"
   ]
  },
  {
   "cell_type": "code",
   "execution_count": 30,
   "metadata": {},
   "outputs": [
    {
     "name": "stdout",
     "output_type": "stream",
     "text": [
      "Naomi JP Tweets\n",
      "Username: \n",
      "Retweets: 0\n",
      "Text: YOSHIKI 大阪なおみ選手と同じ飛行機で日本に到着、オーラを消して空港から立ち去る http://evx.lolipop.jp/?p=37236 pic.twitter.com/XNsEWNRddF\n",
      "Mentions: \n",
      "Hashtags: \n",
      "\n",
      "Naomi JP Tweets\n",
      "Username: \n",
      "Retweets: 0\n",
      "Text: 大阪なおみは可愛くてすごくて日本人じゃないけど、記者会見どうでも良すぎw見て楽しいか？やたら数多いけどw何かを隠す為のイベントとしか思えないw\n",
      "Mentions: \n",
      "Hashtags: \n",
      "\n",
      "Naomi JP Tweets\n",
      "Username: \n",
      "Retweets: 0\n",
      "Text: 大阪なおみ「濃いメンツで飲んだ」パシャ←飲んでそうなメンツ http://kismy59fit2.seesaa.net/\n",
      "Mentions: \n",
      "Hashtags: \n",
      "\n",
      "Naomi JP Tweets\n",
      "Username: \n",
      "Retweets: 0\n",
      "Text: 大阪なおみってアントニーに似てるよな\n",
      "Mentions: \n",
      "Hashtags: \n",
      "\n",
      "Naomi JP Tweets\n",
      "Username: \n",
      "Retweets: 0\n",
      "Text: 大阪なおみのインタビューでムラサキカガミって言ってるように聞こえた……。\n",
      "Mentions: \n",
      "Hashtags: \n",
      "\n"
     ]
    }
   ],
   "source": [
    "for item in Naomi_JP_tweets:\n",
    "    printTweet(\"Naomi JP Tweets\", item)"
   ]
  },
  {
   "cell_type": "code",
   "execution_count": 31,
   "metadata": {},
   "outputs": [
    {
     "name": "stdout",
     "output_type": "stream",
     "text": [
      "Serena\n",
      "Username: \n",
      "Retweets: 0\n",
      "Text: 空知先生が思ったよりもゴリラじゃーない それならセレナウィリアムズの方がよほどゴリラじゃ～腕に毛がないとか 全然ゴリゴリしてない https://twitter.com/kentashinohara_/status/1039927636548448256 …\n",
      "Mentions: \n",
      "Hashtags: \n",
      "\n",
      "Serena\n",
      "Username: \n",
      "Retweets: 0\n",
      "Text: うひゃー、テニス審判たちがセレナ事件を受けて労組を作りたい/セレナの試合をボイコットすることを視野に入れているという。 # セレナウィリアムズ https://twitter.com/barstoolsports/status/1039910257143603201 …\n",
      "Mentions: \n",
      "Hashtags: #\n",
      "\n",
      "Serena\n",
      "Username: \n",
      "Retweets: 0\n",
      "Text: やっぱりセレナウィリアムズの話になった。\n",
      "Mentions: \n",
      "Hashtags: \n",
      "\n",
      "Serena\n",
      "Username: \n",
      "Retweets: 1\n",
      "Text: # セリーナウィリアムズ # セリーナ・ウィリアムズ # セリナ・ウィリアムズ # セリナウィリアムズ # セレナウィリアムズ # セレナ・ウィリアムズ # セレーナウィリアムズ # セレーナ・ウィリアムズ ウィリアムスもやるか。 # セリーナウィリアムス # セリーナ・ウィリアムス # セリーナ # セレナウィリアムスhttps://twitter.com/mr_alan_smithee/status/1038716535584374785 …\n",
      "Mentions: \n",
      "Hashtags: # # # # # # # # # # # #\n",
      "\n",
      "Serena\n",
      "Username: \n",
      "Retweets: 0\n",
      "Text: 前からめっちゃbad temper やーん。kill youとか言ってるし # セレナウィリアムズ # SerenaWilliams Tennis. ANGRY moments by SERENA WILLIAMShttps://www.youtube.com/watch?v=Mf3D6IBpURU&feature=share …\n",
      "Mentions: \n",
      "Hashtags: # #\n",
      "\n"
     ]
    }
   ],
   "source": [
    "for item in Serena_JP_tweets:\n",
    "    printTweet(\"Serena\", item)"
   ]
  },
  {
   "cell_type": "markdown",
   "metadata": {},
   "source": [
    "Got em!!!\n",
    "\n",
    "This won't get rid of the non-English language tweets, but it does ensure that I can get Japanese-only tweets in my Japanese database."
   ]
  },
  {
   "cell_type": "code",
   "execution_count": null,
   "metadata": {},
   "outputs": [],
   "source": []
  }
 ],
 "metadata": {
  "kernelspec": {
   "display_name": "Python 3",
   "language": "python",
   "name": "python3"
  },
  "language_info": {
   "codemirror_mode": {
    "name": "ipython",
    "version": 3
   },
   "file_extension": ".py",
   "mimetype": "text/x-python",
   "name": "python",
   "nbconvert_exporter": "python",
   "pygments_lexer": "ipython3",
   "version": "3.6.6"
  }
 },
 "nbformat": 4,
 "nbformat_minor": 2
}

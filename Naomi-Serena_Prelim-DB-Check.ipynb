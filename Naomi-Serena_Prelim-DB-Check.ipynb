{
 "cells": [
  {
   "cell_type": "markdown",
   "metadata": {},
   "source": [
    "# Building the Database\n",
    "\n",
    "In the previous notebook, I played around with the GetOldTweets python package I'd downloaded and pulled some tweets with the search criteria I was interested in.\n",
    "\n",
    "Now it's time to start creating the database that will hold these tweets.\n",
    "\n",
    "Thinking back on the last project I did, I gathered way too much information. I collected nearly 100k tweets, with identifying information such as the tweet ID, geo location, time stamps and others.\n",
    "\n",
    "But for this project, I want to run a sentiment analysis, and I want to keep it pretty simple. At the bare minimum, I'm only going to need the tweet text. I could collect the hashtags, but from the preliminary data analysis the search criteria will grab whole words (\"Naomi Osaka\") as well as hashtags (\"#naomiosaka\") so I don't need to duplicate this information.\n",
    "\n",
    "I would, though, at least like to gather location information (if available) so I can see if the sentiment towards Naomi and Serena differs depending on where in the world the person is Tweeting from.\n",
    "\n",
    "In that same vein, I'll be pulling Japanese-only tweets into separate tables, and hoping to find a way to filter out non-English tweets from the English tables.\n",
    "\n",
    "So, it looks like I will have a database of \"Naomi Serena Tweets\" with the following tables, delineated by search query:\n",
    "\n",
    "* \"naomi osaka\"\n",
    "* \"serena williams\"\n",
    "* \"大阪なおみ\"\n",
    "* \"セレナウィリアムズ\"\n",
    "\n",
    "For each table, I'll need to populate it with the following information:\n",
    "\n",
    "* tweetID\n",
    "* tweet text\n",
    "* tweet location\n",
    "\n",
    "That will give me a unique ID to identify each tweet by, the main text of the tweet that I want to analyze, and the possible location of each tweet for further analysis.\n",
    "\n",
    "## Environment Setup\n",
    "So that this project can be run entirely in Jupyter, I'm going to move my copy of GetOldTweets into this directory so I can call it without constantly appending it to the syspath. I'll also import the database management module I'm going to be using."
   ]
  },
  {
   "cell_type": "code",
   "execution_count": 2,
   "metadata": {},
   "outputs": [],
   "source": [
    "import sys\n",
    "sys.path.append(\"GetOldTweets-python-master/\")\n",
    "import got3\n",
    "import sqlite3\n",
    "from sqlite3 import Error"
   ]
  },
  {
   "cell_type": "markdown",
   "metadata": {},
   "source": [
    "### Test DB\n",
    "Before I create the real thing, I want to make sure I know how to use the module. So I'll be creating and populating test tables here."
   ]
  },
  {
   "cell_type": "code",
   "execution_count": 3,
   "metadata": {},
   "outputs": [
    {
     "name": "stdout",
     "output_type": "stream",
     "text": [
      "2.6.0\n"
     ]
    }
   ],
   "source": [
    "connect = sqlite3.connect('test.db')\n",
    "print(sqlite3.version)\n",
    "connect.close()"
   ]
  },
  {
   "cell_type": "markdown",
   "metadata": {},
   "source": [
    "That successfully created a database titled \"test\" in the current directory. Now I'll try to populate it with a few tables:"
   ]
  },
  {
   "cell_type": "code",
   "execution_count": 4,
   "metadata": {},
   "outputs": [
    {
     "data": {
      "text/plain": [
       "<sqlite3.Cursor at 0x186ac9977a0>"
      ]
     },
     "execution_count": 4,
     "metadata": {},
     "output_type": "execute_result"
    }
   ],
   "source": [
    "connect = sqlite3.connect('test.db')\n",
    "cursor = connect.cursor()\n",
    "\n",
    "cursor.executescript('''\n",
    "    DROP TABLE IF EXISTS Test001;\n",
    "    DROP TABLE IF EXISTS Test002;\n",
    "\n",
    "CREATE TABLE Test001 (\n",
    "    id INTEGER NOT NULL PRIMARY KEY AUTOINCREMENT UNIQUE,\n",
    "    tweet_id INTEGER,\n",
    "    tweet_date TEXT,\n",
    "    tweet_text TEXT,\n",
    "    tweet_loc TEXT);\n",
    "    \n",
    "CREATE TABLE Test002 (\n",
    "    id INTEGER NOT NULL PRIMARY KEY AUTOINCREMENT UNIQUE,\n",
    "    tweet_id INTEGER,\n",
    "    tweet_date TEXT,\n",
    "    tweet_text TEXT,\n",
    "    tweet_loc TEXT);\n",
    "''')"
   ]
  },
  {
   "cell_type": "code",
   "execution_count": 5,
   "metadata": {},
   "outputs": [],
   "source": [
    "connect.close()"
   ]
  },
  {
   "cell_type": "code",
   "execution_count": 5,
   "metadata": {},
   "outputs": [
    {
     "name": "stdout",
     "output_type": "stream",
     "text": [
      "<sqlite3.Cursor object at 0x000001DF725B7730>\n"
     ]
    }
   ],
   "source": [
    "print(cursor)"
   ]
  },
  {
   "cell_type": "markdown",
   "metadata": {},
   "source": [
    "Done! That wasn't too bad.\n",
    "\n",
    "Okay. I think I'm ready to build my databases and start populating them. I'll be doing this in a separate notebook to keep everything neat and tidy."
   ]
  },
  {
   "cell_type": "markdown",
   "metadata": {},
   "source": [
    "## Sept. 16, 2018\n",
    "\n",
    "I'm worried about being able to write tweets directly to the database, so I'm going to test the code out here. I'll be working with the test database to do this."
   ]
  },
  {
   "cell_type": "code",
   "execution_count": 6,
   "metadata": {},
   "outputs": [
    {
     "name": "stdout",
     "output_type": "stream",
     "text": [
      "Please enter database name: test.db\n",
      "[<got3.models.Tweet.Tweet object at 0x000001DF72605B38>, <got3.models.Tweet.Tweet object at 0x000001DF72605E48>, <got3.models.Tweet.Tweet object at 0x000001DF72605DD8>, <got3.models.Tweet.Tweet object at 0x000001DF72605F98>, <got3.models.Tweet.Tweet object at 0x000001DF72605320>, <got3.models.Tweet.Tweet object at 0x000001DF72605A20>, <got3.models.Tweet.Tweet object at 0x000001DF72605748>, <got3.models.Tweet.Tweet object at 0x000001DF7260F198>, <got3.models.Tweet.Tweet object at 0x000001DF7260F438>, <got3.models.Tweet.Tweet object at 0x000001DF7260F780>, <got3.models.Tweet.Tweet object at 0x000001DF726055F8>, <got3.models.Tweet.Tweet object at 0x000001DF72605438>, <got3.models.Tweet.Tweet object at 0x000001DF7260FD30>, <got3.models.Tweet.Tweet object at 0x000001DF7260FC50>, <got3.models.Tweet.Tweet object at 0x000001DF7260F0B8>, <got3.models.Tweet.Tweet object at 0x000001DF7260FE48>, <got3.models.Tweet.Tweet object at 0x000001DF7260FEB8>, <got3.models.Tweet.Tweet object at 0x000001DF7260FF60>, <got3.models.Tweet.Tweet object at 0x000001DF7260FCF8>, <got3.models.Tweet.Tweet object at 0x000001DF726054E0>, <got3.models.Tweet.Tweet object at 0x000001DF7263EC88>, <got3.models.Tweet.Tweet object at 0x000001DF7263EBE0>, <got3.models.Tweet.Tweet object at 0x000001DF7263EEB8>, <got3.models.Tweet.Tweet object at 0x000001DF7263E898>, <got3.models.Tweet.Tweet object at 0x000001DF7263E6A0>, <got3.models.Tweet.Tweet object at 0x000001DF7263ED68>, <got3.models.Tweet.Tweet object at 0x000001DF7263EC50>, <got3.models.Tweet.Tweet object at 0x000001DF7263E940>, <got3.models.Tweet.Tweet object at 0x000001DF7260FE80>, <got3.models.Tweet.Tweet object at 0x000001DF7260FDD8>, <got3.models.Tweet.Tweet object at 0x000001DF7260FD68>, <got3.models.Tweet.Tweet object at 0x000001DF7260FAC8>, <got3.models.Tweet.Tweet object at 0x000001DF72605EB8>, <got3.models.Tweet.Tweet object at 0x000001DF7263EE48>, <got3.models.Tweet.Tweet object at 0x000001DF7263EDD8>, <got3.models.Tweet.Tweet object at 0x000001DF7263E8D0>, <got3.models.Tweet.Tweet object at 0x000001DF7263E0B8>, <got3.models.Tweet.Tweet object at 0x000001DF7263E080>, <got3.models.Tweet.Tweet object at 0x000001DF72605BA8>, <got3.models.Tweet.Tweet object at 0x000001DF7260FA90>, <got3.models.Tweet.Tweet object at 0x000001DF7263EEF0>, <got3.models.Tweet.Tweet object at 0x000001DF7263E748>, <got3.models.Tweet.Tweet object at 0x000001DF7263EE80>, <got3.models.Tweet.Tweet object at 0x000001DF7263EFD0>, <got3.models.Tweet.Tweet object at 0x000001DF7263EA58>, <got3.models.Tweet.Tweet object at 0x000001DF7263EB70>, <got3.models.Tweet.Tweet object at 0x000001DF7263E5C0>, <got3.models.Tweet.Tweet object at 0x000001DF72605CC0>, <got3.models.Tweet.Tweet object at 0x000001DF7260F588>, <got3.models.Tweet.Tweet object at 0x000001DF7263EF60>, <got3.models.Tweet.Tweet object at 0x000001DF7263EBA8>, <got3.models.Tweet.Tweet object at 0x000001DF7263EA90>, <got3.models.Tweet.Tweet object at 0x000001DF7263E7F0>, <got3.models.Tweet.Tweet object at 0x000001DF7263E780>, <got3.models.Tweet.Tweet object at 0x000001DF7263EE10>, <got3.models.Tweet.Tweet object at 0x000001DF7263E710>, <got3.models.Tweet.Tweet object at 0x000001DF71D96518>, <got3.models.Tweet.Tweet object at 0x000001DF72605668>, <got3.models.Tweet.Tweet object at 0x000001DF726056D8>, <got3.models.Tweet.Tweet object at 0x000001DF71E87400>, <got3.models.Tweet.Tweet object at 0x000001DF725C7710>, <got3.models.Tweet.Tweet object at 0x000001DF72605F60>, <got3.models.Tweet.Tweet object at 0x000001DF7263E198>, <got3.models.Tweet.Tweet object at 0x000001DF7263EAC8>, <got3.models.Tweet.Tweet object at 0x000001DF7263E550>, <got3.models.Tweet.Tweet object at 0x000001DF7263E828>, <got3.models.Tweet.Tweet object at 0x000001DF7263E4A8>, <got3.models.Tweet.Tweet object at 0x000001DF7260F240>, <got3.models.Tweet.Tweet object at 0x000001DF7260F7B8>, <got3.models.Tweet.Tweet object at 0x000001DF6EF6B048>, <got3.models.Tweet.Tweet object at 0x000001DF7263E470>, <got3.models.Tweet.Tweet object at 0x000001DF7263ECF8>, <got3.models.Tweet.Tweet object at 0x000001DF7263EF98>, <got3.models.Tweet.Tweet object at 0x000001DF7260FA20>, <got3.models.Tweet.Tweet object at 0x000001DF7260F128>, <got3.models.Tweet.Tweet object at 0x000001DF7260FB70>, <got3.models.Tweet.Tweet object at 0x000001DF7260FDA0>, <got3.models.Tweet.Tweet object at 0x000001DF7264E160>, <got3.models.Tweet.Tweet object at 0x000001DF7260F908>, <got3.models.Tweet.Tweet object at 0x000001DF7260FF28>, <got3.models.Tweet.Tweet object at 0x000001DF7264EC88>, <got3.models.Tweet.Tweet object at 0x000001DF7264E8D0>, <got3.models.Tweet.Tweet object at 0x000001DF7264EDA0>, <got3.models.Tweet.Tweet object at 0x000001DF7264E5C0>, <got3.models.Tweet.Tweet object at 0x000001DF7264E6A0>, <got3.models.Tweet.Tweet object at 0x000001DF7264E630>, <got3.models.Tweet.Tweet object at 0x000001DF7264E5F8>, <got3.models.Tweet.Tweet object at 0x000001DF7260FFD0>, <got3.models.Tweet.Tweet object at 0x000001DF7260F400>, <got3.models.Tweet.Tweet object at 0x000001DF7263E208>, <got3.models.Tweet.Tweet object at 0x000001DF72605EF0>, <got3.models.Tweet.Tweet object at 0x000001DF7264EA20>, <got3.models.Tweet.Tweet object at 0x000001DF7264EBE0>, <got3.models.Tweet.Tweet object at 0x000001DF7264E588>, <got3.models.Tweet.Tweet object at 0x000001DF7264E828>, <got3.models.Tweet.Tweet object at 0x000001DF7264E940>, <got3.models.Tweet.Tweet object at 0x000001DF71E873C8>, <got3.models.Tweet.Tweet object at 0x000001DF7260F860>, <got3.models.Tweet.Tweet object at 0x000001DF7264EDD8>, <got3.models.Tweet.Tweet object at 0x000001DF7264EEB8>]\n"
     ]
    }
   ],
   "source": [
    "connect = sqlite3.connect(\"test.db\")\n",
    "cur = connect.cursor()\n",
    "\n",
    "# creates the database\n",
    "cur.executescript('''\n",
    "CREATE TABLE IF NOT EXISTS Tweets (\n",
    "id INTEGER NOT NULL PRIMARY KEY AUTOINCREMENT UNIQUE,\n",
    "tweet_id INTEGER,\n",
    "tweet_user TEXT,\n",
    "tweet_text TEXT,\n",
    "tweet_date TEXT,\n",
    "tweet_hash TEXT,\n",
    "tweet_RTs TEXT,\n",
    "tweet_faves TEXT,\n",
    "tweet_ment TEXT,\n",
    "tweet_loc TEXT,\n",
    "tweet_link TEXT\n",
    ");\n",
    "''')\n",
    "\n",
    "query = \"naomi osaka\"\n",
    "start = \"2018-09-08\"\n",
    "end = \"2018-09-14\"\n",
    "\n",
    "tweetCriteria = got3.manager.TweetCriteria().setQuerySearch(query).setSince(start).setUntil(end).setMaxTweets(100)\n",
    "\n",
    "tweet_info = got3.manager.TweetManager.getTweets(tweetCriteria)\n",
    "print(tweet_info)"
   ]
  },
  {
   "cell_type": "markdown",
   "metadata": {},
   "source": [
    "It worked! We're good to go :)"
   ]
  },
  {
   "cell_type": "code",
   "execution_count": null,
   "metadata": {},
   "outputs": [],
   "source": []
  }
 ],
 "metadata": {
  "kernelspec": {
   "display_name": "Python 3",
   "language": "python",
   "name": "python3"
  },
  "language_info": {
   "codemirror_mode": {
    "name": "ipython",
    "version": 3
   },
   "file_extension": ".py",
   "mimetype": "text/x-python",
   "name": "python",
   "nbconvert_exporter": "python",
   "pygments_lexer": "ipython3",
   "version": "3.6.6"
  }
 },
 "nbformat": 4,
 "nbformat_minor": 2
}

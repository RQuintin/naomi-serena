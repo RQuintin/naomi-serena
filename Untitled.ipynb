{
 "cells": [
  {
   "cell_type": "code",
   "execution_count": 1,
   "metadata": {},
   "outputs": [],
   "source": [
    "import re"
   ]
  },
  {
   "cell_type": "code",
   "execution_count": 9,
   "metadata": {},
   "outputs": [],
   "source": [
    "num = \"+1(404) 555-3355\""
   ]
  },
  {
   "cell_type": "code",
   "execution_count": 35,
   "metadata": {},
   "outputs": [],
   "source": [
    "def parse_phone2(s):\n",
    "    pass_pattern = re.compile('^\\s*\\(([0-9]{3})\\)[-\\s]*([0-9]{3})-*([0-9]{4})\\s*$', re.VERBOSE)\n",
    "    pass_match = pass_pattern.search(s)\n",
    "\n",
    "    pass_pattern2 = re.compile('^\\s*([0-9]{3})[-]*([0-9]{3})-*([0-9]{4})\\s*$', re.VERBOSE)\n",
    "    pass_match2 = pass_pattern2.search(s) \n",
    "\n",
    "    if pass_match != None:\n",
    "        return ((pass_match.group(1), pass_match.group(2), pass_match.group(3)))\n",
    "    elif pass_match2 != None: \n",
    "        return ((pass_match2.group(1), pass_match2.group(2), pass_match2.group(3)))\n",
    "    else:    \n",
    "        raise ValueError()"
   ]
  },
  {
   "cell_type": "code",
   "execution_count": 36,
   "metadata": {},
   "outputs": [],
   "source": [
    "# def parse_phone2(s):\n",
    "#     phone = \"\\s*\\(*[0-9]{3}\\)*\\-*[0-9]{3}\\-*[0-9]{4}\\s*\"\n",
    "#     paren = \"^\\s*\\(+\"\n",
    "#     paren_pattern = \"^\\s*(\\(+[0-9]{3}\\))+\\s*\\-*[0-9]{3}\\-*[0-9]{4}\\s*\"\n",
    "    \n",
    "#     #if there's a parenthesis at the beginning\n",
    "#     if re.match(paren, s) is not None:        \n",
    "#         #if the area code is enclosed in parentheses\n",
    "#         if re.match(paren_pattern, s) is not None:\n",
    "#             #get all digits in the number\n",
    "#             assemble = \"\".join(re.findall(\"[0-9]+\", s))\n",
    "#         else:\n",
    "#             raise ValueError\n",
    "    \n",
    "#     #if there's no parentheses, use the regular pattern\n",
    "#     elif re.match(phone, s) is not None:\n",
    "#         #get all digits in the number\n",
    "#         assemble = \"\".join(re.findall(\"[0-9]+\", s))\n",
    "        \n",
    "#     else:\n",
    "#         raise ValueError\n",
    "    \n",
    "#     return (assemble[:3], assemble[3:6], assemble[6:])"
   ]
  },
  {
   "cell_type": "code",
   "execution_count": 37,
   "metadata": {},
   "outputs": [
    {
     "data": {
      "text/plain": [
       "ValueError('ValueError')"
      ]
     },
     "execution_count": 37,
     "metadata": {},
     "output_type": "execute_result"
    }
   ],
   "source": [
    "parse_phone(num)"
   ]
  },
  {
   "cell_type": "code",
   "execution_count": 38,
   "metadata": {},
   "outputs": [],
   "source": [
    "# Test cell: `parse_phone1_test`\n",
    "\n",
    "def rand_spaces(m=5):\n",
    "    from random import randint\n",
    "    return ' ' * randint(0, m)\n",
    "\n",
    "def asm_phone(a, l, r):\n",
    "    return rand_spaces() + '(' + a + ')' + rand_spaces() + l + '-' + r + rand_spaces()\n",
    "\n",
    "def gen_digits(k):\n",
    "    from random import choice # 3.5 compatible; 3.6 has `choices()`\n",
    "    DIGITS = '0123456789'\n",
    "    return ''.join([choice(DIGITS) for _ in range(k)])\n",
    "\n",
    "def pass_phone(p=None, a=None, l=None, r=None):\n",
    "    if p is None:\n",
    "        a = gen_digits(3)\n",
    "        l = gen_digits(3)\n",
    "        r = gen_digits(4)\n",
    "        p = asm_phone(a, l, r)\n",
    "    else:\n",
    "        assert a is not None and l is not None and r is not None, \"Need to supply sample solution.\"\n",
    "    msg = \"Should pass: '{}'\".format(p)\n",
    "    print(msg)\n",
    "    p_you = parse_phone1(p)\n",
    "    assert p_you == (a, l, r), \"Got {} instead of ('{}', '{}', '{}')\".format(p_you, a, l, r)\n",
    "    \n",
    "def fail_phone(s):\n",
    "    msg = \"Should fail: '{}'\".format(s)\n",
    "    print(msg)\n",
    "    try:\n",
    "        p_you = parse_phone1(s)\n",
    "    except ValueError:\n",
    "        print(\"==> Correctly throws an exception.\")\n",
    "    else:\n",
    "        raise AssertionError(\"Failed to throw a `ValueError` exception!\")\n"
   ]
  },
  {
   "cell_type": "code",
   "execution_count": 39,
   "metadata": {},
   "outputs": [
    {
     "name": "stdout",
     "output_type": "stream",
     "text": [
      "Should pass: '  (404)   555-1212  '\n",
      "Should pass: '(404)555-1212  '\n",
      "Should pass: '  404-555-1212 '\n",
      "Should pass: '  404-5551212 '\n",
      "Should pass: ' 4045551212'\n",
      "Should pass: '     (296)234-9302    '\n",
      "Should pass: '    017-3518209  '\n",
      "Should pass: ' 982-925-5975  '\n",
      "Should pass: '5889292911'\n",
      "Should pass: '   409-5578015   '\n",
      "Should fail: '+1 (404) 555-3355'\n",
      "==> Function correctly raised an exception.\n",
      "Should fail: '404.555.3355'\n",
      "==> Function correctly raised an exception.\n",
      "Should fail: '404 555-3355'\n",
      "==> Function correctly raised an exception.\n",
      "Should fail: '404 555 3355'\n",
      "==> Function correctly raised an exception.\n",
      "Should fail: '(404-555-1212'\n",
      "==> Function correctly raised an exception.\n",
      "\n",
      "(Passed!)\n"
     ]
    }
   ],
   "source": [
    "# Test cell: `parse_phone2_test`\n",
    "\n",
    "def asm_phone2(a, l, r):\n",
    "    from random import random\n",
    "    x = random()\n",
    "    if x < 0.33:\n",
    "        a2 = '(' + a + ')' + rand_spaces()\n",
    "    elif x < 0.67:\n",
    "        a2 = a + '-'\n",
    "    else:\n",
    "        a2 = a\n",
    "    y = random()\n",
    "    if y < 0.5:\n",
    "        l2 = l + '-'\n",
    "    else:\n",
    "        l2 = l\n",
    "    return rand_spaces() + a2 + l2 + r + rand_spaces()\n",
    "\n",
    "def pass_phone2(p=None, a=None, l=None, r=None):\n",
    "    if p is None:\n",
    "        a = gen_digits(3)\n",
    "        l = gen_digits(3)\n",
    "        r = gen_digits(4)\n",
    "        p = asm_phone2(a, l, r)\n",
    "    else:\n",
    "        assert a is not None and l is not None and r is not None, \"Need to supply sample solution.\"\n",
    "    msg = \"Should pass: '{}'\".format(p)\n",
    "    print(msg)\n",
    "    p_you = parse_phone2(p)\n",
    "    assert p_you == (a, l, r), \"Got {} instead of ('{}', '{}', '{}')\".format(p_you, a, l, r)\n",
    "    \n",
    "pass_phone2(\"  (404)   555-1212  \", '404', '555', '1212')\n",
    "pass_phone2(\"(404)555-1212  \", '404', '555', '1212')\n",
    "pass_phone2(\"  404-555-1212 \", '404', '555', '1212')\n",
    "pass_phone2(\"  404-5551212 \", '404', '555', '1212')\n",
    "pass_phone2(\" 4045551212\", '404', '555', '1212')\n",
    "    \n",
    "for _ in range(5):\n",
    "    pass_phone2()\n",
    "    \n",
    "    \n",
    "def fail_phone2(s):\n",
    "    msg = \"Should fail: '{}'\".format(s)\n",
    "    print(msg)\n",
    "    try:\n",
    "        parse_phone2 (s)\n",
    "    except ValueError:\n",
    "        print (\"==> Function correctly raised an exception.\")\n",
    "    else:\n",
    "        raise AssertionError (\"Function did *not* raise an exception as expected!\")\n",
    "        \n",
    "failure_cases = ['+1 (404) 555-3355',\n",
    "                 '404.555.3355',\n",
    "                 '404 555-3355',\n",
    "                 '404 555 3355',\n",
    "                 '(404-555-1212'\n",
    "                ]\n",
    "for s in failure_cases:\n",
    "    fail_phone2(s)\n",
    "    \n",
    "print(\"\\n(Passed!)\")"
   ]
  },
  {
   "cell_type": "code",
   "execution_count": null,
   "metadata": {},
   "outputs": [],
   "source": []
  }
 ],
 "metadata": {
  "kernelspec": {
   "display_name": "Python 3",
   "language": "python",
   "name": "python3"
  },
  "language_info": {
   "codemirror_mode": {
    "name": "ipython",
    "version": 3
   },
   "file_extension": ".py",
   "mimetype": "text/x-python",
   "name": "python",
   "nbconvert_exporter": "python",
   "pygments_lexer": "ipython3",
   "version": "3.6.6"
  }
 },
 "nbformat": 4,
 "nbformat_minor": 2
}

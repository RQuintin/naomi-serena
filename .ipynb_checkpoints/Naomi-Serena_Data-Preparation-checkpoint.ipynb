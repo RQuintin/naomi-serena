{
 "cells": [
  {
   "cell_type": "markdown",
   "metadata": {},
   "source": [
    "# Data Cleaning and Preprocessing\n",
    "\n",
    "So in the Data Wrangling notebook I noted that I would need to clean and prepare the data for analysis, but I didn't realize just how many steps that would take. I ended up spending an entire notebook wrangling the data, trying to get it in the format I needed it in, and trying to access the specific data that I wanted in the first place (while ignoring irrelevant data).\n",
    "\n",
    "Now that I've got it in the format I want it in, I think I can take the time to clean it up and get it ready for analysis."
   ]
  },
  {
   "cell_type": "code",
   "execution_count": 164,
   "metadata": {},
   "outputs": [],
   "source": [
    "import pandas as pd"
   ]
  },
  {
   "cell_type": "code",
   "execution_count": 165,
   "metadata": {},
   "outputs": [],
   "source": [
    "df = pd.read_pickle(\"C:/Users/jzpow/Code/Projects/Naomi-Serena/data/naomi-serena-tweets.pkl\")"
   ]
  },
  {
   "cell_type": "code",
   "execution_count": 166,
   "metadata": {},
   "outputs": [
    {
     "data": {
      "text/html": [
       "<div>\n",
       "<style scoped>\n",
       "    .dataframe tbody tr th:only-of-type {\n",
       "        vertical-align: middle;\n",
       "    }\n",
       "\n",
       "    .dataframe tbody tr th {\n",
       "        vertical-align: top;\n",
       "    }\n",
       "\n",
       "    .dataframe thead th {\n",
       "        text-align: right;\n",
       "    }\n",
       "</style>\n",
       "<table border=\"1\" class=\"dataframe\">\n",
       "  <thead>\n",
       "    <tr style=\"text-align: right;\">\n",
       "      <th></th>\n",
       "      <th>id</th>\n",
       "      <th>tweet_date</th>\n",
       "      <th>tweet_text</th>\n",
       "      <th>search query</th>\n",
       "    </tr>\n",
       "  </thead>\n",
       "  <tbody>\n",
       "    <tr>\n",
       "      <th>0</th>\n",
       "      <td>1</td>\n",
       "      <td>Sat Sep 08 19:59:59 +0000 2018</td>\n",
       "      <td>Naomi Osaka upsets Serena Williams in controve...</td>\n",
       "      <td>naomi osaka</td>\n",
       "    </tr>\n",
       "    <tr>\n",
       "      <th>1</th>\n",
       "      <td>2</td>\n",
       "      <td>Sat Sep 08 19:59:57 +0000 2018</td>\n",
       "      <td>@ Naomi_Osaka_ , you go girl! I got your back!...</td>\n",
       "      <td>naomi osaka</td>\n",
       "    </tr>\n",
       "    <tr>\n",
       "      <th>5</th>\n",
       "      <td>6</td>\n",
       "      <td>Sat Sep 08 19:59:56 +0000 2018</td>\n",
       "      <td>@ Naomi_Osaka_ probably felt like she was at h...</td>\n",
       "      <td>naomi osaka</td>\n",
       "    </tr>\n",
       "    <tr>\n",
       "      <th>6</th>\n",
       "      <td>7</td>\n",
       "      <td>Sat Sep 08 19:59:55 +0000 2018</td>\n",
       "      <td>Congrats girly, don’t let anyone take this mom...</td>\n",
       "      <td>naomi osaka</td>\n",
       "    </tr>\n",
       "    <tr>\n",
       "      <th>7</th>\n",
       "      <td>8</td>\n",
       "      <td>Sat Sep 08 19:59:55 +0000 2018</td>\n",
       "      <td>Naomi Osaka defeats Serena Williams in a drama...</td>\n",
       "      <td>naomi osaka</td>\n",
       "    </tr>\n",
       "  </tbody>\n",
       "</table>\n",
       "</div>"
      ],
      "text/plain": [
       "   id                      tweet_date  \\\n",
       "0   1  Sat Sep 08 19:59:59 +0000 2018   \n",
       "1   2  Sat Sep 08 19:59:57 +0000 2018   \n",
       "5   6  Sat Sep 08 19:59:56 +0000 2018   \n",
       "6   7  Sat Sep 08 19:59:55 +0000 2018   \n",
       "7   8  Sat Sep 08 19:59:55 +0000 2018   \n",
       "\n",
       "                                          tweet_text search query  \n",
       "0  Naomi Osaka upsets Serena Williams in controve...  naomi osaka  \n",
       "1  @ Naomi_Osaka_ , you go girl! I got your back!...  naomi osaka  \n",
       "5  @ Naomi_Osaka_ probably felt like she was at h...  naomi osaka  \n",
       "6  Congrats girly, don’t let anyone take this mom...  naomi osaka  \n",
       "7  Naomi Osaka defeats Serena Williams in a drama...  naomi osaka  "
      ]
     },
     "execution_count": 166,
     "metadata": {},
     "output_type": "execute_result"
    }
   ],
   "source": [
    "df.head()"
   ]
  },
  {
   "cell_type": "code",
   "execution_count": 167,
   "metadata": {},
   "outputs": [
    {
     "name": "stdout",
     "output_type": "stream",
     "text": [
      "<class 'pandas.core.frame.DataFrame'>\n",
      "Int64Index: 23828 entries, 0 to 14998\n",
      "Data columns (total 4 columns):\n",
      "id              23828 non-null int64\n",
      "tweet_date      23828 non-null object\n",
      "tweet_text      23828 non-null object\n",
      "search query    23828 non-null object\n",
      "dtypes: int64(1), object(3)\n",
      "memory usage: 930.8+ KB\n"
     ]
    }
   ],
   "source": [
    "df.info()"
   ]
  },
  {
   "cell_type": "code",
   "execution_count": 168,
   "metadata": {},
   "outputs": [],
   "source": [
    "df = df.reset_index(drop = True)"
   ]
  },
  {
   "cell_type": "code",
   "execution_count": 169,
   "metadata": {},
   "outputs": [
    {
     "data": {
      "text/plain": [
       "0     Naomi Osaka upsets Serena Williams in controve...\n",
       "1     @ Naomi_Osaka_ , you go girl! I got your back!...\n",
       "2     @ Naomi_Osaka_ probably felt like she was at h...\n",
       "3     Congrats girly, don’t let anyone take this mom...\n",
       "4     Naomi Osaka defeats Serena Williams in a drama...\n",
       "5     https://twitter.com/juventino5555/status/10377...\n",
       "6     Carlos Ramos also robbed Osaka. Imagine how mu...\n",
       "7     Yes Bravo to @ BigSascha Bajin And of course l...\n",
       "8     Tennis officials.. where coaches are seen coac...\n",
       "9     Naomi Osaka tops Serena Williams in U.S. Open ...\n",
       "10    Booing damn Naomi Osaka won the girl was cooki...\n",
       "11    You should take the with you @ Naomi_Osaka_ Co...\n",
       "12    @ Naomi_Osaka_ Congratulaions. . . who were te...\n",
       "13    The proof that something can be done is when y...\n",
       "14    Her ambition, she once told a reporter, was “t...\n",
       "15    [FULL] 2018 US Open trophy ceremony with Seren...\n",
       "16    What's happening? Part 1. Naomi Osaka vs Seren...\n",
       "17    @ Naomi_Osaka_ Congratulations You are proud o...\n",
       "18    You're not a true fan of @ serenawilliams sere...\n",
       "19    I honestly think Serena knew she was going to ...\n",
       "20                Worst crowd. That makes japanese sad.\n",
       "21    Congratulations @ Naomi_Osaka_ # 3StripeLifeht...\n",
       "22    Fuck you. Naomi Osaka is diverse as well; Hait...\n",
       "23    So @ Naomi_Osaka_ is Haitian & Japanese. I jus...\n",
       "24    @ Naomi_Osaka_ You are a class act! I can’t wa...\n",
       "25    naomi osaka is also my hero and i look forward...\n",
       "26    I love @ serenawilliams but this @ Naomi_Osaka...\n",
       "27    @ Naomi_Osaka_ Congratulations on your win tod...\n",
       "28                                   Whoa Naomi Osaka!!\n",
       "29    And it's usually when she is losing.....Just s...\n",
       "                            ...                        \n",
       "70    Congrats to Naomi Osaka!! Amazing performance ...\n",
       "71    Congratulations.. On your success., Naomi Osak...\n",
       "72    Heartiest Congratulations to @ Naomi_Osaka_ , ...\n",
       "73    Serena Williams lost to Naomi Osaka after gett...\n",
       "74           Serena should name her next kid Deflection\n",
       "75    The other bit. The big bit. The entire match b...\n",
       "76    A real winner even when losing. Classy @ seren...\n",
       "77                          LETS GO!!!!! @ Naomi_Osaka_\n",
       "78    I fully agree with those who say this was tota...\n",
       "79    So congratulations, @ Naomi_Osaka_ You played ...\n",
       "80    She mad because of sexism? by that you agreed ...\n",
       "81    The crowd wasn't booing Naomi's win. And I did...\n",
       "82    NEW YORK — Serena Williams was beaten by Naomi...\n",
       "83                                               Earned\n",
       "84    Is Naomi Osaka a dual or triple citizen? (Trip...\n",
       "85    She got screwed by the ump. She was getting th...\n",
       "86    Congratulations @ Naomi_Osaka_ You showed how ...\n",
       "87    Sorry americans were rude to you today. Enjoy ...\n",
       "88    @ serenawilliams Stop making this into a gende...\n",
       "89    The US Open crowd was rude,unpolite and awaful...\n",
       "90    You are a sports man I'm glad you understand t...\n",
       "91    What a bloody champion at 20 y/o @ Naomi_Osaka...\n",
       "92    @ Naomi_Osaka_ Congratulations on your first m...\n",
       "93    US Open 2018: Serena Williams falls to Naomi O...\n",
       "94    I'm glad it's not just me. One of the greatest...\n",
       "95    Serena's coach admitted to coaching. It's not ...\n",
       "96    Congrats miss! Big round of applause for you a...\n",
       "97    And the fact that Naomi Osaka has to continue ...\n",
       "98    The crowd booing after the match was disgustin...\n",
       "99    Naomi Osaka wins US Open title after Serena Wi...\n",
       "Name: tweet_text, Length: 100, dtype: object"
      ]
     },
     "execution_count": 169,
     "metadata": {},
     "output_type": "execute_result"
    }
   ],
   "source": [
    "df['tweet_text'][:100]"
   ]
  },
  {
   "cell_type": "markdown",
   "metadata": {},
   "source": [
    "So from examining a few rows of the tweet data, I can see a few things that can be cleaned up:\n",
    "\n",
    "* links\n",
    "* hashtags (i.e. #3StripeLife)\n",
    "* mentions (i.e. @ Naomi_Osaka_ or @ serenawilliams\n",
    "* misspellings (i.e. \"awaful\")\n",
    "* headlines (i.e. [FULL] 2018 US Open Trophy...)\n",
    "* slang (i.e. She got screwed by the ump)\n",
    "\n",
    "I'm not sure I can clean all of these up, but I can at least do a little bit. So let's get started!\n",
    "\n",
    "*The preprocessing done in this notebook is based on the following tutorial: https://www.kdnuggets.com/2018/03/text-data-preprocessing-walkthrough-python.html*"
   ]
  },
  {
   "cell_type": "code",
   "execution_count": 170,
   "metadata": {},
   "outputs": [
    {
     "data": {
      "text/html": [
       "<div>\n",
       "<style scoped>\n",
       "    .dataframe tbody tr th:only-of-type {\n",
       "        vertical-align: middle;\n",
       "    }\n",
       "\n",
       "    .dataframe tbody tr th {\n",
       "        vertical-align: top;\n",
       "    }\n",
       "\n",
       "    .dataframe thead th {\n",
       "        text-align: right;\n",
       "    }\n",
       "</style>\n",
       "<table border=\"1\" class=\"dataframe\">\n",
       "  <thead>\n",
       "    <tr style=\"text-align: right;\">\n",
       "      <th></th>\n",
       "      <th>id</th>\n",
       "      <th>tweet_date</th>\n",
       "      <th>tweet_text</th>\n",
       "      <th>search query</th>\n",
       "    </tr>\n",
       "  </thead>\n",
       "  <tbody>\n",
       "    <tr>\n",
       "      <th>0</th>\n",
       "      <td>1</td>\n",
       "      <td>Sat Sep 08 19:59:59 +0000 2018</td>\n",
       "      <td>Naomi Osaka upsets Serena Williams in controve...</td>\n",
       "      <td>naomi osaka</td>\n",
       "    </tr>\n",
       "    <tr>\n",
       "      <th>1</th>\n",
       "      <td>2</td>\n",
       "      <td>Sat Sep 08 19:59:57 +0000 2018</td>\n",
       "      <td>@ Naomi_Osaka_ , you go girl! I got your back!...</td>\n",
       "      <td>naomi osaka</td>\n",
       "    </tr>\n",
       "    <tr>\n",
       "      <th>2</th>\n",
       "      <td>6</td>\n",
       "      <td>Sat Sep 08 19:59:56 +0000 2018</td>\n",
       "      <td>@ Naomi_Osaka_ probably felt like she was at h...</td>\n",
       "      <td>naomi osaka</td>\n",
       "    </tr>\n",
       "    <tr>\n",
       "      <th>3</th>\n",
       "      <td>7</td>\n",
       "      <td>Sat Sep 08 19:59:55 +0000 2018</td>\n",
       "      <td>Congrats girly, don’t let anyone take this mom...</td>\n",
       "      <td>naomi osaka</td>\n",
       "    </tr>\n",
       "    <tr>\n",
       "      <th>4</th>\n",
       "      <td>8</td>\n",
       "      <td>Sat Sep 08 19:59:55 +0000 2018</td>\n",
       "      <td>Naomi Osaka defeats Serena Williams in a drama...</td>\n",
       "      <td>naomi osaka</td>\n",
       "    </tr>\n",
       "    <tr>\n",
       "      <th>5</th>\n",
       "      <td>9</td>\n",
       "      <td>Sat Sep 08 19:59:55 +0000 2018</td>\n",
       "      <td>https://twitter.com/juventino5555/status/10377...</td>\n",
       "      <td>naomi osaka</td>\n",
       "    </tr>\n",
       "    <tr>\n",
       "      <th>6</th>\n",
       "      <td>10</td>\n",
       "      <td>Sat Sep 08 19:59:54 +0000 2018</td>\n",
       "      <td>Carlos Ramos also robbed Osaka. Imagine how mu...</td>\n",
       "      <td>naomi osaka</td>\n",
       "    </tr>\n",
       "    <tr>\n",
       "      <th>7</th>\n",
       "      <td>11</td>\n",
       "      <td>Sat Sep 08 19:59:52 +0000 2018</td>\n",
       "      <td>Yes Bravo to @ BigSascha Bajin And of course l...</td>\n",
       "      <td>naomi osaka</td>\n",
       "    </tr>\n",
       "    <tr>\n",
       "      <th>8</th>\n",
       "      <td>12</td>\n",
       "      <td>Sat Sep 08 19:59:50 +0000 2018</td>\n",
       "      <td>Tennis officials.. where coaches are seen coac...</td>\n",
       "      <td>naomi osaka</td>\n",
       "    </tr>\n",
       "    <tr>\n",
       "      <th>9</th>\n",
       "      <td>13</td>\n",
       "      <td>Sat Sep 08 19:59:50 +0000 2018</td>\n",
       "      <td>Naomi Osaka tops Serena Williams in U.S. Open ...</td>\n",
       "      <td>naomi osaka</td>\n",
       "    </tr>\n",
       "  </tbody>\n",
       "</table>\n",
       "</div>"
      ],
      "text/plain": [
       "   id                      tweet_date  \\\n",
       "0   1  Sat Sep 08 19:59:59 +0000 2018   \n",
       "1   2  Sat Sep 08 19:59:57 +0000 2018   \n",
       "2   6  Sat Sep 08 19:59:56 +0000 2018   \n",
       "3   7  Sat Sep 08 19:59:55 +0000 2018   \n",
       "4   8  Sat Sep 08 19:59:55 +0000 2018   \n",
       "5   9  Sat Sep 08 19:59:55 +0000 2018   \n",
       "6  10  Sat Sep 08 19:59:54 +0000 2018   \n",
       "7  11  Sat Sep 08 19:59:52 +0000 2018   \n",
       "8  12  Sat Sep 08 19:59:50 +0000 2018   \n",
       "9  13  Sat Sep 08 19:59:50 +0000 2018   \n",
       "\n",
       "                                          tweet_text search query  \n",
       "0  Naomi Osaka upsets Serena Williams in controve...  naomi osaka  \n",
       "1  @ Naomi_Osaka_ , you go girl! I got your back!...  naomi osaka  \n",
       "2  @ Naomi_Osaka_ probably felt like she was at h...  naomi osaka  \n",
       "3  Congrats girly, don’t let anyone take this mom...  naomi osaka  \n",
       "4  Naomi Osaka defeats Serena Williams in a drama...  naomi osaka  \n",
       "5  https://twitter.com/juventino5555/status/10377...  naomi osaka  \n",
       "6  Carlos Ramos also robbed Osaka. Imagine how mu...  naomi osaka  \n",
       "7  Yes Bravo to @ BigSascha Bajin And of course l...  naomi osaka  \n",
       "8  Tennis officials.. where coaches are seen coac...  naomi osaka  \n",
       "9  Naomi Osaka tops Serena Williams in U.S. Open ...  naomi osaka  "
      ]
     },
     "execution_count": 170,
     "metadata": {},
     "output_type": "execute_result"
    }
   ],
   "source": [
    "test = df[:10].copy()\n",
    "test"
   ]
  },
  {
   "cell_type": "markdown",
   "metadata": {},
   "source": [
    "## Step 0: Noise Removal\n",
    "\n",
    "What the tutorial calls \"noise removal.\" Noise removal is task-specific, meaning we need to take our data into consideration when removing the noise.\n",
    "\n",
    "For this tweet data, it looks like we'll want to remove hashtags, links and mentions."
   ]
  },
  {
   "cell_type": "code",
   "execution_count": 171,
   "metadata": {
    "scrolled": false
   },
   "outputs": [
    {
     "name": "stdout",
     "output_type": "stream",
     "text": [
      "Naomi Osaka upsets Serena Williams in controversial US Open final - CNN # SmartNewshttps://edition.cnn.com/2018/09/08/sport/naomi-osaka-serena-williams-us-open-tennis-int-spt/index.html …\n",
      "@ Naomi_Osaka_ , you go girl! I got your back! Congrats on the US open!\n",
      "@ Naomi_Osaka_ probably felt like she was at her friend’s house when their mom started yelling at them # usopen\n",
      "Congrats girly, don’t let anyone take this moment from you..you outplayed everyone, even the GOAT Serena @ Naomi_Osaka_\n",
      "Naomi Osaka defeats Serena Williams in a dramatic US Open final https://twitter.com/i/events/1038540032330493952 …\n",
      "https://twitter.com/juventino5555/status/1037768949109276672?s=19 …\n",
      "Carlos Ramos also robbed Osaka. Imagine how much better she would feel if she broke Serena to go up 5-3 instead of being giving the game.\n",
      "Yes Bravo to @ BigSascha Bajin And of course love as always (since she turned pro!) to @ Naomi_Osaka_ https://twitter.com/bgtennisnation/status/1038563742961881090 …\n",
      "Tennis officials.. where coaches are seen coaching their player.. why not issue a warning to the coach.. and if he is called on it again, he is ejected. Better yet.. get rid of the coaching signals rule altogether..A player is helpless to effect their coach’s actions mid match.\n",
      "Naomi Osaka tops Serena Williams in U.S. Open final, becomes first Japanese grand slam singles champion | The Japan Times https://www.japantimes.co.jp/sports/2018/09/09/more-sports/tennis/naomi-osaka-tops-serena-williams-u-s-open-final-becomes-first-japanese-grand-slam-singles-champion/#.W5Ric76cSlQ.twitter …\n"
     ]
    }
   ],
   "source": [
    "for tweet in test['tweet_text']:\n",
    "    print(tweet)"
   ]
  },
  {
   "cell_type": "markdown",
   "metadata": {},
   "source": [
    "### 0.0: Remove Hyperlinks"
   ]
  },
  {
   "cell_type": "code",
   "execution_count": 172,
   "metadata": {},
   "outputs": [],
   "source": [
    "import re"
   ]
  },
  {
   "cell_type": "code",
   "execution_count": 173,
   "metadata": {},
   "outputs": [],
   "source": [
    "url_pattern = \"http[^\\s]+\\s?…?\""
   ]
  },
  {
   "cell_type": "code",
   "execution_count": 174,
   "metadata": {},
   "outputs": [],
   "source": [
    "# for tweet in test.loc[test['tweet_text']]:\n",
    "#     if re.search(url_pattern, tweet) is not None:\n",
    "#         tweet = re.sub(url_pattern, ' ', tweet)\n",
    "#     else:\n",
    "#         pass"
   ]
  },
  {
   "cell_type": "code",
   "execution_count": 175,
   "metadata": {},
   "outputs": [],
   "source": [
    "# test.loc[test['tweet_text'].str.contains(\"http\")] = \"TEST\""
   ]
  },
  {
   "cell_type": "code",
   "execution_count": 176,
   "metadata": {},
   "outputs": [],
   "source": [
    "test.loc[:, 'tweet_text'].replace(url_pattern, \" \", regex=True, inplace=True)"
   ]
  },
  {
   "cell_type": "code",
   "execution_count": 177,
   "metadata": {},
   "outputs": [
    {
     "data": {
      "text/html": [
       "<div>\n",
       "<style scoped>\n",
       "    .dataframe tbody tr th:only-of-type {\n",
       "        vertical-align: middle;\n",
       "    }\n",
       "\n",
       "    .dataframe tbody tr th {\n",
       "        vertical-align: top;\n",
       "    }\n",
       "\n",
       "    .dataframe thead th {\n",
       "        text-align: right;\n",
       "    }\n",
       "</style>\n",
       "<table border=\"1\" class=\"dataframe\">\n",
       "  <thead>\n",
       "    <tr style=\"text-align: right;\">\n",
       "      <th></th>\n",
       "      <th>id</th>\n",
       "      <th>tweet_date</th>\n",
       "      <th>tweet_text</th>\n",
       "      <th>search query</th>\n",
       "    </tr>\n",
       "  </thead>\n",
       "  <tbody>\n",
       "    <tr>\n",
       "      <th>0</th>\n",
       "      <td>1</td>\n",
       "      <td>Sat Sep 08 19:59:59 +0000 2018</td>\n",
       "      <td>Naomi Osaka upsets Serena Williams in controve...</td>\n",
       "      <td>naomi osaka</td>\n",
       "    </tr>\n",
       "    <tr>\n",
       "      <th>1</th>\n",
       "      <td>2</td>\n",
       "      <td>Sat Sep 08 19:59:57 +0000 2018</td>\n",
       "      <td>@ Naomi_Osaka_ , you go girl! I got your back!...</td>\n",
       "      <td>naomi osaka</td>\n",
       "    </tr>\n",
       "    <tr>\n",
       "      <th>2</th>\n",
       "      <td>6</td>\n",
       "      <td>Sat Sep 08 19:59:56 +0000 2018</td>\n",
       "      <td>@ Naomi_Osaka_ probably felt like she was at h...</td>\n",
       "      <td>naomi osaka</td>\n",
       "    </tr>\n",
       "    <tr>\n",
       "      <th>3</th>\n",
       "      <td>7</td>\n",
       "      <td>Sat Sep 08 19:59:55 +0000 2018</td>\n",
       "      <td>Congrats girly, don’t let anyone take this mom...</td>\n",
       "      <td>naomi osaka</td>\n",
       "    </tr>\n",
       "    <tr>\n",
       "      <th>4</th>\n",
       "      <td>8</td>\n",
       "      <td>Sat Sep 08 19:59:55 +0000 2018</td>\n",
       "      <td>Naomi Osaka defeats Serena Williams in a drama...</td>\n",
       "      <td>naomi osaka</td>\n",
       "    </tr>\n",
       "    <tr>\n",
       "      <th>5</th>\n",
       "      <td>9</td>\n",
       "      <td>Sat Sep 08 19:59:55 +0000 2018</td>\n",
       "      <td></td>\n",
       "      <td>naomi osaka</td>\n",
       "    </tr>\n",
       "    <tr>\n",
       "      <th>6</th>\n",
       "      <td>10</td>\n",
       "      <td>Sat Sep 08 19:59:54 +0000 2018</td>\n",
       "      <td>Carlos Ramos also robbed Osaka. Imagine how mu...</td>\n",
       "      <td>naomi osaka</td>\n",
       "    </tr>\n",
       "    <tr>\n",
       "      <th>7</th>\n",
       "      <td>11</td>\n",
       "      <td>Sat Sep 08 19:59:52 +0000 2018</td>\n",
       "      <td>Yes Bravo to @ BigSascha Bajin And of course l...</td>\n",
       "      <td>naomi osaka</td>\n",
       "    </tr>\n",
       "    <tr>\n",
       "      <th>8</th>\n",
       "      <td>12</td>\n",
       "      <td>Sat Sep 08 19:59:50 +0000 2018</td>\n",
       "      <td>Tennis officials.. where coaches are seen coac...</td>\n",
       "      <td>naomi osaka</td>\n",
       "    </tr>\n",
       "    <tr>\n",
       "      <th>9</th>\n",
       "      <td>13</td>\n",
       "      <td>Sat Sep 08 19:59:50 +0000 2018</td>\n",
       "      <td>Naomi Osaka tops Serena Williams in U.S. Open ...</td>\n",
       "      <td>naomi osaka</td>\n",
       "    </tr>\n",
       "  </tbody>\n",
       "</table>\n",
       "</div>"
      ],
      "text/plain": [
       "   id                      tweet_date  \\\n",
       "0   1  Sat Sep 08 19:59:59 +0000 2018   \n",
       "1   2  Sat Sep 08 19:59:57 +0000 2018   \n",
       "2   6  Sat Sep 08 19:59:56 +0000 2018   \n",
       "3   7  Sat Sep 08 19:59:55 +0000 2018   \n",
       "4   8  Sat Sep 08 19:59:55 +0000 2018   \n",
       "5   9  Sat Sep 08 19:59:55 +0000 2018   \n",
       "6  10  Sat Sep 08 19:59:54 +0000 2018   \n",
       "7  11  Sat Sep 08 19:59:52 +0000 2018   \n",
       "8  12  Sat Sep 08 19:59:50 +0000 2018   \n",
       "9  13  Sat Sep 08 19:59:50 +0000 2018   \n",
       "\n",
       "                                          tweet_text search query  \n",
       "0  Naomi Osaka upsets Serena Williams in controve...  naomi osaka  \n",
       "1  @ Naomi_Osaka_ , you go girl! I got your back!...  naomi osaka  \n",
       "2  @ Naomi_Osaka_ probably felt like she was at h...  naomi osaka  \n",
       "3  Congrats girly, don’t let anyone take this mom...  naomi osaka  \n",
       "4  Naomi Osaka defeats Serena Williams in a drama...  naomi osaka  \n",
       "5                                                     naomi osaka  \n",
       "6  Carlos Ramos also robbed Osaka. Imagine how mu...  naomi osaka  \n",
       "7  Yes Bravo to @ BigSascha Bajin And of course l...  naomi osaka  \n",
       "8  Tennis officials.. where coaches are seen coac...  naomi osaka  \n",
       "9  Naomi Osaka tops Serena Williams in U.S. Open ...  naomi osaka  "
      ]
     },
     "execution_count": 177,
     "metadata": {},
     "output_type": "execute_result"
    }
   ],
   "source": [
    "test"
   ]
  },
  {
   "cell_type": "code",
   "execution_count": 178,
   "metadata": {},
   "outputs": [
    {
     "data": {
      "text/plain": [
       "id                                           9\n",
       "tweet_date      Sat Sep 08 19:59:55 +0000 2018\n",
       "tweet_text                                    \n",
       "search query                       naomi osaka\n",
       "Name: 5, dtype: object"
      ]
     },
     "execution_count": 178,
     "metadata": {},
     "output_type": "execute_result"
    }
   ],
   "source": [
    "test.iloc[5]"
   ]
  },
  {
   "cell_type": "code",
   "execution_count": 179,
   "metadata": {},
   "outputs": [
    {
     "name": "stdout",
     "output_type": "stream",
     "text": [
      "Naomi Osaka upsets Serena Williams in controversial US Open final - CNN # SmartNews \n",
      "@ Naomi_Osaka_ , you go girl! I got your back! Congrats on the US open!\n",
      "@ Naomi_Osaka_ probably felt like she was at her friend’s house when their mom started yelling at them # usopen\n",
      "Congrats girly, don’t let anyone take this moment from you..you outplayed everyone, even the GOAT Serena @ Naomi_Osaka_\n",
      "Naomi Osaka defeats Serena Williams in a dramatic US Open final  \n",
      " \n",
      "Carlos Ramos also robbed Osaka. Imagine how much better she would feel if she broke Serena to go up 5-3 instead of being giving the game.\n",
      "Yes Bravo to @ BigSascha Bajin And of course love as always (since she turned pro!) to @ Naomi_Osaka_  \n",
      "Tennis officials.. where coaches are seen coaching their player.. why not issue a warning to the coach.. and if he is called on it again, he is ejected. Better yet.. get rid of the coaching signals rule altogether..A player is helpless to effect their coach’s actions mid match.\n",
      "Naomi Osaka tops Serena Williams in U.S. Open final, becomes first Japanese grand slam singles champion | The Japan Times  \n"
     ]
    }
   ],
   "source": [
    "for tweet in test['tweet_text']:\n",
    "    print(tweet)"
   ]
  },
  {
   "cell_type": "markdown",
   "metadata": {},
   "source": [
    "### 0.1: Remove Mentions\n",
    "\n",
    "I don't think that having these in here will contribute to data analysis. I've already got the search query tagged in a separate column. Besides, names don't seem to have that much sentiment attached to them, so it will be much easier to remove any mentions."
   ]
  },
  {
   "cell_type": "code",
   "execution_count": 180,
   "metadata": {},
   "outputs": [],
   "source": [
    "mentions_pattern = '@\\s[A-Za-z0-9_]+'"
   ]
  },
  {
   "cell_type": "code",
   "execution_count": 181,
   "metadata": {},
   "outputs": [],
   "source": [
    "test.loc[:, 'tweet_text'].replace(mentions_pattern, \" \", regex=True, inplace=True)"
   ]
  },
  {
   "cell_type": "code",
   "execution_count": 182,
   "metadata": {},
   "outputs": [
    {
     "data": {
      "text/html": [
       "<div>\n",
       "<style scoped>\n",
       "    .dataframe tbody tr th:only-of-type {\n",
       "        vertical-align: middle;\n",
       "    }\n",
       "\n",
       "    .dataframe tbody tr th {\n",
       "        vertical-align: top;\n",
       "    }\n",
       "\n",
       "    .dataframe thead th {\n",
       "        text-align: right;\n",
       "    }\n",
       "</style>\n",
       "<table border=\"1\" class=\"dataframe\">\n",
       "  <thead>\n",
       "    <tr style=\"text-align: right;\">\n",
       "      <th></th>\n",
       "      <th>id</th>\n",
       "      <th>tweet_date</th>\n",
       "      <th>tweet_text</th>\n",
       "      <th>search query</th>\n",
       "    </tr>\n",
       "  </thead>\n",
       "  <tbody>\n",
       "    <tr>\n",
       "      <th>0</th>\n",
       "      <td>1</td>\n",
       "      <td>Sat Sep 08 19:59:59 +0000 2018</td>\n",
       "      <td>Naomi Osaka upsets Serena Williams in controve...</td>\n",
       "      <td>naomi osaka</td>\n",
       "    </tr>\n",
       "    <tr>\n",
       "      <th>1</th>\n",
       "      <td>2</td>\n",
       "      <td>Sat Sep 08 19:59:57 +0000 2018</td>\n",
       "      <td>, you go girl! I got your back! Congrats on ...</td>\n",
       "      <td>naomi osaka</td>\n",
       "    </tr>\n",
       "    <tr>\n",
       "      <th>2</th>\n",
       "      <td>6</td>\n",
       "      <td>Sat Sep 08 19:59:56 +0000 2018</td>\n",
       "      <td>probably felt like she was at her friend’s h...</td>\n",
       "      <td>naomi osaka</td>\n",
       "    </tr>\n",
       "    <tr>\n",
       "      <th>3</th>\n",
       "      <td>7</td>\n",
       "      <td>Sat Sep 08 19:59:55 +0000 2018</td>\n",
       "      <td>Congrats girly, don’t let anyone take this mom...</td>\n",
       "      <td>naomi osaka</td>\n",
       "    </tr>\n",
       "    <tr>\n",
       "      <th>4</th>\n",
       "      <td>8</td>\n",
       "      <td>Sat Sep 08 19:59:55 +0000 2018</td>\n",
       "      <td>Naomi Osaka defeats Serena Williams in a drama...</td>\n",
       "      <td>naomi osaka</td>\n",
       "    </tr>\n",
       "    <tr>\n",
       "      <th>5</th>\n",
       "      <td>9</td>\n",
       "      <td>Sat Sep 08 19:59:55 +0000 2018</td>\n",
       "      <td></td>\n",
       "      <td>naomi osaka</td>\n",
       "    </tr>\n",
       "    <tr>\n",
       "      <th>6</th>\n",
       "      <td>10</td>\n",
       "      <td>Sat Sep 08 19:59:54 +0000 2018</td>\n",
       "      <td>Carlos Ramos also robbed Osaka. Imagine how mu...</td>\n",
       "      <td>naomi osaka</td>\n",
       "    </tr>\n",
       "    <tr>\n",
       "      <th>7</th>\n",
       "      <td>11</td>\n",
       "      <td>Sat Sep 08 19:59:52 +0000 2018</td>\n",
       "      <td>Yes Bravo to   Bajin And of course love as alw...</td>\n",
       "      <td>naomi osaka</td>\n",
       "    </tr>\n",
       "    <tr>\n",
       "      <th>8</th>\n",
       "      <td>12</td>\n",
       "      <td>Sat Sep 08 19:59:50 +0000 2018</td>\n",
       "      <td>Tennis officials.. where coaches are seen coac...</td>\n",
       "      <td>naomi osaka</td>\n",
       "    </tr>\n",
       "    <tr>\n",
       "      <th>9</th>\n",
       "      <td>13</td>\n",
       "      <td>Sat Sep 08 19:59:50 +0000 2018</td>\n",
       "      <td>Naomi Osaka tops Serena Williams in U.S. Open ...</td>\n",
       "      <td>naomi osaka</td>\n",
       "    </tr>\n",
       "  </tbody>\n",
       "</table>\n",
       "</div>"
      ],
      "text/plain": [
       "   id                      tweet_date  \\\n",
       "0   1  Sat Sep 08 19:59:59 +0000 2018   \n",
       "1   2  Sat Sep 08 19:59:57 +0000 2018   \n",
       "2   6  Sat Sep 08 19:59:56 +0000 2018   \n",
       "3   7  Sat Sep 08 19:59:55 +0000 2018   \n",
       "4   8  Sat Sep 08 19:59:55 +0000 2018   \n",
       "5   9  Sat Sep 08 19:59:55 +0000 2018   \n",
       "6  10  Sat Sep 08 19:59:54 +0000 2018   \n",
       "7  11  Sat Sep 08 19:59:52 +0000 2018   \n",
       "8  12  Sat Sep 08 19:59:50 +0000 2018   \n",
       "9  13  Sat Sep 08 19:59:50 +0000 2018   \n",
       "\n",
       "                                          tweet_text search query  \n",
       "0  Naomi Osaka upsets Serena Williams in controve...  naomi osaka  \n",
       "1    , you go girl! I got your back! Congrats on ...  naomi osaka  \n",
       "2    probably felt like she was at her friend’s h...  naomi osaka  \n",
       "3  Congrats girly, don’t let anyone take this mom...  naomi osaka  \n",
       "4  Naomi Osaka defeats Serena Williams in a drama...  naomi osaka  \n",
       "5                                                     naomi osaka  \n",
       "6  Carlos Ramos also robbed Osaka. Imagine how mu...  naomi osaka  \n",
       "7  Yes Bravo to   Bajin And of course love as alw...  naomi osaka  \n",
       "8  Tennis officials.. where coaches are seen coac...  naomi osaka  \n",
       "9  Naomi Osaka tops Serena Williams in U.S. Open ...  naomi osaka  "
      ]
     },
     "execution_count": 182,
     "metadata": {},
     "output_type": "execute_result"
    }
   ],
   "source": [
    "test"
   ]
  },
  {
   "cell_type": "markdown",
   "metadata": {},
   "source": [
    "I figured out how to update the rows without getting the `SettingwithCopyWarning`: you have to indicate all rows `:` and then the desired column. I'm going to update the above code to reflect this.\n",
    "\n",
    "**ETA 2018.10.11**: I'm reading through *Python for Data Analysis* which helped me figure out how to update data in a series. In addition to the above, I simply had to flag the update as `inplace=True` and this seemed to work beautifully.\n",
    "\n",
    "I couldnt' remove all of the mentions, since some usernames had spaces, meaning parts of them were left behind. But I think this is no different than having someone's name in there in the first place; it still won't convey much information. All in all, I think getting as many as I could is better than not getting any at all, and the bits of mentions left over shouldn't contribute much to the final analysis."
   ]
  },
  {
   "cell_type": "code",
   "execution_count": 183,
   "metadata": {},
   "outputs": [
    {
     "name": "stdout",
     "output_type": "stream",
     "text": [
      "Naomi Osaka upsets Serena Williams in controversial US Open final - CNN # SmartNews \n",
      "  , you go girl! I got your back! Congrats on the US open!\n",
      "  probably felt like she was at her friend’s house when their mom started yelling at them # usopen\n",
      "Congrats girly, don’t let anyone take this moment from you..you outplayed everyone, even the GOAT Serena  \n",
      "Naomi Osaka defeats Serena Williams in a dramatic US Open final  \n",
      " \n",
      "Carlos Ramos also robbed Osaka. Imagine how much better she would feel if she broke Serena to go up 5-3 instead of being giving the game.\n",
      "Yes Bravo to   Bajin And of course love as always (since she turned pro!) to    \n",
      "Tennis officials.. where coaches are seen coaching their player.. why not issue a warning to the coach.. and if he is called on it again, he is ejected. Better yet.. get rid of the coaching signals rule altogether..A player is helpless to effect their coach’s actions mid match.\n",
      "Naomi Osaka tops Serena Williams in U.S. Open final, becomes first Japanese grand slam singles champion | The Japan Times  \n"
     ]
    }
   ],
   "source": [
    "for tweet in test['tweet_text']:\n",
    "    print(tweet)"
   ]
  },
  {
   "cell_type": "markdown",
   "metadata": {},
   "source": [
    "### 0.2: Remove Hashtags\n",
    "\n",
    "I'm a bit nervous to do this because sometimes people use them as meaningful parts of the tweet. So I think I'll just remove the hash mark instead of the entire hashtag itself. For this data set, it shouldn't be hard to do because the hash mark appears separated by whitespace from the hashtag itself."
   ]
  },
  {
   "cell_type": "code",
   "execution_count": 184,
   "metadata": {},
   "outputs": [],
   "source": [
    "test.loc[:, 'tweet_text'].replace(\"#\", \"\", regex=True, inplace=True)"
   ]
  },
  {
   "cell_type": "code",
   "execution_count": 185,
   "metadata": {},
   "outputs": [
    {
     "name": "stdout",
     "output_type": "stream",
     "text": [
      "Naomi Osaka upsets Serena Williams in controversial US Open final - CNN  SmartNews \n",
      "  , you go girl! I got your back! Congrats on the US open!\n",
      "  probably felt like she was at her friend’s house when their mom started yelling at them  usopen\n",
      "Congrats girly, don’t let anyone take this moment from you..you outplayed everyone, even the GOAT Serena  \n",
      "Naomi Osaka defeats Serena Williams in a dramatic US Open final  \n",
      " \n",
      "Carlos Ramos also robbed Osaka. Imagine how much better she would feel if she broke Serena to go up 5-3 instead of being giving the game.\n",
      "Yes Bravo to   Bajin And of course love as always (since she turned pro!) to    \n",
      "Tennis officials.. where coaches are seen coaching their player.. why not issue a warning to the coach.. and if he is called on it again, he is ejected. Better yet.. get rid of the coaching signals rule altogether..A player is helpless to effect their coach’s actions mid match.\n",
      "Naomi Osaka tops Serena Williams in U.S. Open final, becomes first Japanese grand slam singles champion | The Japan Times  \n"
     ]
    }
   ],
   "source": [
    "for tweet in test['tweet_text']:\n",
    "    print(tweet)"
   ]
  },
  {
   "cell_type": "markdown",
   "metadata": {},
   "source": [
    "## Step 1: Normalization\n",
    "\n",
    "Now that the text appears relatively cleaned, I'll have to (as the tutorial says) *\"[put] all words on equal footing, [allowing the] processing to proceed uniformly.\"* This means casing the text, removing or converting numbers, getting rid of all special characters, and replacing contractions (otherwise, the tokenization step will convert words like \"we'll\" into \"we\" and \"'ll.\")"
   ]
  },
  {
   "cell_type": "markdown",
   "metadata": {},
   "source": [
    "### 1.0: Contraction Expansion\n",
    "\n",
    "What an oxymoronic phrase, that is!\n",
    "\n",
    "This step has to be done before removing special characters, or else we'll lose the contractions.\n",
    "\n",
    "The `contractions.py` file used in this section was downloaded from [DJ Sarkar's repo](https://github.com/dipanjanS/practical-machine-learning-with-python/blob/master/bonus%20content/nlp%20proven%20approach/contractions.py), and the code was made available from his [Guide to NLP on Towards Data Science](https://towardsdatascience.com/a-practitioners-guide-to-natural-language-processing-part-i-processing-understanding-text-9f4abfd13e72)."
   ]
  },
  {
   "cell_type": "code",
   "execution_count": 186,
   "metadata": {},
   "outputs": [],
   "source": [
    "from contractions import CONTRACTION_MAP"
   ]
  },
  {
   "cell_type": "code",
   "execution_count": 187,
   "metadata": {},
   "outputs": [],
   "source": [
    "def expand_contractions(text, contraction_mapping=CONTRACTION_MAP):\n",
    "    \n",
    "    contractions_pattern = re.compile('({})'.format('|'.join(contraction_mapping.keys())), \n",
    "                                      flags=re.IGNORECASE|re.DOTALL)\n",
    "    def expand_match(contraction):\n",
    "        match = contraction.group(0)\n",
    "        first_char = match[0]\n",
    "        expanded_contraction = contraction_mapping.get(match)\\\n",
    "                                if contraction_mapping.get(match)\\\n",
    "                                else contraction_mapping.get(match.lower())                       \n",
    "        expanded_contraction = first_char+expanded_contraction[1:]\n",
    "        return expanded_contraction\n",
    "        \n",
    "    expanded_text = contractions_pattern.sub(expand_match, text)\n",
    "    expanded_text = re.sub(\"'\", \"\", expanded_text)\n",
    "    \n",
    "    return expanded_text"
   ]
  },
  {
   "cell_type": "markdown",
   "metadata": {},
   "source": [
    "My tweets are using curly quotes \"’\" instead of straight ones, so I'll have to go through and update all of these first. Then I'll expand the contractions."
   ]
  },
  {
   "cell_type": "code",
   "execution_count": 188,
   "metadata": {},
   "outputs": [],
   "source": [
    "test.loc[:, 'tweet_text'].replace(\"’\", \"'\", regex=True, inplace=True)"
   ]
  },
  {
   "cell_type": "code",
   "execution_count": 189,
   "metadata": {},
   "outputs": [],
   "source": [
    "test['tweet_text'] = test['tweet_text'].apply(lambda x: expand_contractions(x))"
   ]
  },
  {
   "cell_type": "code",
   "execution_count": 190,
   "metadata": {},
   "outputs": [
    {
     "name": "stdout",
     "output_type": "stream",
     "text": [
      "Naomi Osaka upsets Serena Williams in controversial US Open final - CNN  SmartNews \n",
      "  , you go girl! I got your back! Congrats on the US open!\n",
      "  probably felt like she was at her friends house when their mom started yelling at them  usopen\n",
      "Congrats girly, do not let anyone take this moment from you..you outplayed everyone, even the GOAT Serena  \n",
      "Naomi Osaka defeats Serena Williams in a dramatic US Open final  \n",
      " \n",
      "Carlos Ramos also robbed Osaka. Imagine how much better she would feel if she broke Serena to go up 5-3 instead of being giving the game.\n",
      "Yes Bravo to   Bajin And of course love as always (since she turned pro!) to    \n",
      "Tennis officials.. where coaches are seen coaching their player.. why not issue a warning to the coach.. and if he is called on it again, he is ejected. Better yet.. get rid of the coaching signals rule altogether..A player is helpless to effect their coachs actions mid match.\n",
      "Naomi Osaka tops Serena Williams in U.S. Open final, becomes first Japanese grand slam singles champion | The Japan Times  \n"
     ]
    }
   ],
   "source": [
    "for tweet in test['tweet_text']:\n",
    "    print(tweet)"
   ]
  },
  {
   "cell_type": "markdown",
   "metadata": {},
   "source": [
    "### 1.1: Special Character Removal\n",
    "\n",
    "Let's get rid of all the non-alphanumeric characters. I'm also going to remove all numerics as I'm not sure they will contribute to the sentiment of the tweet."
   ]
  },
  {
   "cell_type": "code",
   "execution_count": 191,
   "metadata": {},
   "outputs": [],
   "source": [
    "test.loc[:, 'tweet_text'].replace(\"[^a-zA-Z\\s]\", \" \", regex=True, inplace=True)"
   ]
  },
  {
   "cell_type": "code",
   "execution_count": 192,
   "metadata": {},
   "outputs": [
    {
     "name": "stdout",
     "output_type": "stream",
     "text": [
      "Naomi Osaka upsets Serena Williams in controversial US Open final   CNN  SmartNews \n",
      "    you go girl  I got your back  Congrats on the US open \n",
      "  probably felt like she was at her friends house when their mom started yelling at them  usopen\n",
      "Congrats girly  do not let anyone take this moment from you  you outplayed everyone  even the GOAT Serena  \n",
      "Naomi Osaka defeats Serena Williams in a dramatic US Open final  \n",
      " \n",
      "Carlos Ramos also robbed Osaka  Imagine how much better she would feel if she broke Serena to go up     instead of being giving the game \n",
      "Yes Bravo to   Bajin And of course love as always  since she turned pro   to    \n",
      "Tennis officials   where coaches are seen coaching their player   why not issue a warning to the coach   and if he is called on it again  he is ejected  Better yet   get rid of the coaching signals rule altogether  A player is helpless to effect their coachs actions mid match \n",
      "Naomi Osaka tops Serena Williams in U S  Open final  becomes first Japanese grand slam singles champion   The Japan Times  \n"
     ]
    }
   ],
   "source": [
    "for tweet in test['tweet_text']:\n",
    "    print(tweet)"
   ]
  },
  {
   "cell_type": "markdown",
   "metadata": {},
   "source": [
    "### 1.2: Text Casing\n",
    "\n",
    "Simply converting all text to lower case."
   ]
  },
  {
   "cell_type": "code",
   "execution_count": 193,
   "metadata": {},
   "outputs": [],
   "source": [
    "test['tweet_text'] = test['tweet_text'].apply(lambda x: x.lower())"
   ]
  },
  {
   "cell_type": "code",
   "execution_count": 194,
   "metadata": {},
   "outputs": [
    {
     "name": "stdout",
     "output_type": "stream",
     "text": [
      "naomi osaka upsets serena williams in controversial us open final   cnn  smartnews \n",
      "    you go girl  i got your back  congrats on the us open \n",
      "  probably felt like she was at her friends house when their mom started yelling at them  usopen\n",
      "congrats girly  do not let anyone take this moment from you  you outplayed everyone  even the goat serena  \n",
      "naomi osaka defeats serena williams in a dramatic us open final  \n",
      " \n",
      "carlos ramos also robbed osaka  imagine how much better she would feel if she broke serena to go up     instead of being giving the game \n",
      "yes bravo to   bajin and of course love as always  since she turned pro   to    \n",
      "tennis officials   where coaches are seen coaching their player   why not issue a warning to the coach   and if he is called on it again  he is ejected  better yet   get rid of the coaching signals rule altogether  a player is helpless to effect their coachs actions mid match \n",
      "naomi osaka tops serena williams in u s  open final  becomes first japanese grand slam singles champion   the japan times  \n"
     ]
    }
   ],
   "source": [
    "for tweet in test['tweet_text']:\n",
    "    print(tweet)"
   ]
  },
  {
   "cell_type": "markdown",
   "metadata": {},
   "source": [
    "## Step 2: Preprocessing\n",
    "\n",
    "This is the final step before analysis, consisting of three parts: tokenization, stemming, and lemmatization.\n",
    "\n",
    "First, let's remove all tweets that were rendered NaN due to the previous steps."
   ]
  },
  {
   "cell_type": "code",
   "execution_count": 195,
   "metadata": {},
   "outputs": [],
   "source": [
    "import numpy as np"
   ]
  },
  {
   "cell_type": "code",
   "execution_count": 196,
   "metadata": {},
   "outputs": [],
   "source": [
    "test['tweet_text'].replace(' ', np.nan, inplace=True)"
   ]
  },
  {
   "cell_type": "code",
   "execution_count": 197,
   "metadata": {},
   "outputs": [],
   "source": [
    "test.dropna(inplace=True)"
   ]
  },
  {
   "cell_type": "code",
   "execution_count": 198,
   "metadata": {},
   "outputs": [
    {
     "data": {
      "text/html": [
       "<div>\n",
       "<style scoped>\n",
       "    .dataframe tbody tr th:only-of-type {\n",
       "        vertical-align: middle;\n",
       "    }\n",
       "\n",
       "    .dataframe tbody tr th {\n",
       "        vertical-align: top;\n",
       "    }\n",
       "\n",
       "    .dataframe thead th {\n",
       "        text-align: right;\n",
       "    }\n",
       "</style>\n",
       "<table border=\"1\" class=\"dataframe\">\n",
       "  <thead>\n",
       "    <tr style=\"text-align: right;\">\n",
       "      <th></th>\n",
       "      <th>id</th>\n",
       "      <th>tweet_date</th>\n",
       "      <th>tweet_text</th>\n",
       "      <th>search query</th>\n",
       "    </tr>\n",
       "  </thead>\n",
       "  <tbody>\n",
       "    <tr>\n",
       "      <th>0</th>\n",
       "      <td>1</td>\n",
       "      <td>Sat Sep 08 19:59:59 +0000 2018</td>\n",
       "      <td>naomi osaka upsets serena williams in controve...</td>\n",
       "      <td>naomi osaka</td>\n",
       "    </tr>\n",
       "    <tr>\n",
       "      <th>1</th>\n",
       "      <td>2</td>\n",
       "      <td>Sat Sep 08 19:59:57 +0000 2018</td>\n",
       "      <td>you go girl  i got your back  congrats on ...</td>\n",
       "      <td>naomi osaka</td>\n",
       "    </tr>\n",
       "    <tr>\n",
       "      <th>2</th>\n",
       "      <td>6</td>\n",
       "      <td>Sat Sep 08 19:59:56 +0000 2018</td>\n",
       "      <td>probably felt like she was at her friends ho...</td>\n",
       "      <td>naomi osaka</td>\n",
       "    </tr>\n",
       "    <tr>\n",
       "      <th>3</th>\n",
       "      <td>7</td>\n",
       "      <td>Sat Sep 08 19:59:55 +0000 2018</td>\n",
       "      <td>congrats girly  do not let anyone take this mo...</td>\n",
       "      <td>naomi osaka</td>\n",
       "    </tr>\n",
       "    <tr>\n",
       "      <th>4</th>\n",
       "      <td>8</td>\n",
       "      <td>Sat Sep 08 19:59:55 +0000 2018</td>\n",
       "      <td>naomi osaka defeats serena williams in a drama...</td>\n",
       "      <td>naomi osaka</td>\n",
       "    </tr>\n",
       "    <tr>\n",
       "      <th>5</th>\n",
       "      <td>10</td>\n",
       "      <td>Sat Sep 08 19:59:54 +0000 2018</td>\n",
       "      <td>carlos ramos also robbed osaka  imagine how mu...</td>\n",
       "      <td>naomi osaka</td>\n",
       "    </tr>\n",
       "    <tr>\n",
       "      <th>6</th>\n",
       "      <td>11</td>\n",
       "      <td>Sat Sep 08 19:59:52 +0000 2018</td>\n",
       "      <td>yes bravo to   bajin and of course love as alw...</td>\n",
       "      <td>naomi osaka</td>\n",
       "    </tr>\n",
       "    <tr>\n",
       "      <th>7</th>\n",
       "      <td>12</td>\n",
       "      <td>Sat Sep 08 19:59:50 +0000 2018</td>\n",
       "      <td>tennis officials   where coaches are seen coac...</td>\n",
       "      <td>naomi osaka</td>\n",
       "    </tr>\n",
       "    <tr>\n",
       "      <th>8</th>\n",
       "      <td>13</td>\n",
       "      <td>Sat Sep 08 19:59:50 +0000 2018</td>\n",
       "      <td>naomi osaka tops serena williams in u s  open ...</td>\n",
       "      <td>naomi osaka</td>\n",
       "    </tr>\n",
       "  </tbody>\n",
       "</table>\n",
       "</div>"
      ],
      "text/plain": [
       "   id                      tweet_date  \\\n",
       "0   1  Sat Sep 08 19:59:59 +0000 2018   \n",
       "1   2  Sat Sep 08 19:59:57 +0000 2018   \n",
       "2   6  Sat Sep 08 19:59:56 +0000 2018   \n",
       "3   7  Sat Sep 08 19:59:55 +0000 2018   \n",
       "4   8  Sat Sep 08 19:59:55 +0000 2018   \n",
       "5  10  Sat Sep 08 19:59:54 +0000 2018   \n",
       "6  11  Sat Sep 08 19:59:52 +0000 2018   \n",
       "7  12  Sat Sep 08 19:59:50 +0000 2018   \n",
       "8  13  Sat Sep 08 19:59:50 +0000 2018   \n",
       "\n",
       "                                          tweet_text search query  \n",
       "0  naomi osaka upsets serena williams in controve...  naomi osaka  \n",
       "1      you go girl  i got your back  congrats on ...  naomi osaka  \n",
       "2    probably felt like she was at her friends ho...  naomi osaka  \n",
       "3  congrats girly  do not let anyone take this mo...  naomi osaka  \n",
       "4  naomi osaka defeats serena williams in a drama...  naomi osaka  \n",
       "5  carlos ramos also robbed osaka  imagine how mu...  naomi osaka  \n",
       "6  yes bravo to   bajin and of course love as alw...  naomi osaka  \n",
       "7  tennis officials   where coaches are seen coac...  naomi osaka  \n",
       "8  naomi osaka tops serena williams in u s  open ...  naomi osaka  "
      ]
     },
     "execution_count": 198,
     "metadata": {},
     "output_type": "execute_result"
    }
   ],
   "source": [
    "test.reset_index(drop=True)"
   ]
  },
  {
   "cell_type": "markdown",
   "metadata": {},
   "source": [
    "### 2.0: Tokenization\n",
    "\n",
    "Convert all tweets into a bag of words."
   ]
  },
  {
   "cell_type": "code",
   "execution_count": 199,
   "metadata": {},
   "outputs": [],
   "source": [
    "import nltk"
   ]
  },
  {
   "cell_type": "code",
   "execution_count": 200,
   "metadata": {},
   "outputs": [],
   "source": [
    "test['tweet_text'] = test['tweet_text'].apply(lambda x: nltk.word_tokenize(x))"
   ]
  },
  {
   "cell_type": "code",
   "execution_count": 201,
   "metadata": {},
   "outputs": [
    {
     "name": "stdout",
     "output_type": "stream",
     "text": [
      "['naomi', 'osaka', 'upsets', 'serena', 'williams', 'in', 'controversial', 'us', 'open', 'final', 'cnn', 'smartnews']\n",
      "['you', 'go', 'girl', 'i', 'got', 'your', 'back', 'congrats', 'on', 'the', 'us', 'open']\n",
      "['probably', 'felt', 'like', 'she', 'was', 'at', 'her', 'friends', 'house', 'when', 'their', 'mom', 'started', 'yelling', 'at', 'them', 'usopen']\n",
      "['congrats', 'girly', 'do', 'not', 'let', 'anyone', 'take', 'this', 'moment', 'from', 'you', 'you', 'outplayed', 'everyone', 'even', 'the', 'goat', 'serena']\n",
      "['naomi', 'osaka', 'defeats', 'serena', 'williams', 'in', 'a', 'dramatic', 'us', 'open', 'final']\n",
      "['carlos', 'ramos', 'also', 'robbed', 'osaka', 'imagine', 'how', 'much', 'better', 'she', 'would', 'feel', 'if', 'she', 'broke', 'serena', 'to', 'go', 'up', 'instead', 'of', 'being', 'giving', 'the', 'game']\n",
      "['yes', 'bravo', 'to', 'bajin', 'and', 'of', 'course', 'love', 'as', 'always', 'since', 'she', 'turned', 'pro', 'to']\n",
      "['tennis', 'officials', 'where', 'coaches', 'are', 'seen', 'coaching', 'their', 'player', 'why', 'not', 'issue', 'a', 'warning', 'to', 'the', 'coach', 'and', 'if', 'he', 'is', 'called', 'on', 'it', 'again', 'he', 'is', 'ejected', 'better', 'yet', 'get', 'rid', 'of', 'the', 'coaching', 'signals', 'rule', 'altogether', 'a', 'player', 'is', 'helpless', 'to', 'effect', 'their', 'coachs', 'actions', 'mid', 'match']\n",
      "['naomi', 'osaka', 'tops', 'serena', 'williams', 'in', 'u', 's', 'open', 'final', 'becomes', 'first', 'japanese', 'grand', 'slam', 'singles', 'champion', 'the', 'japan', 'times']\n"
     ]
    }
   ],
   "source": [
    "for tweet in test['tweet_text']:\n",
    "    print(tweet)"
   ]
  },
  {
   "cell_type": "markdown",
   "metadata": {},
   "source": [
    "I see a lot of stop words that I don't want in here, so let's get rid of those now."
   ]
  },
  {
   "cell_type": "code",
   "execution_count": 202,
   "metadata": {},
   "outputs": [],
   "source": [
    "from nltk.corpus import stopwords\n",
    "stop = stopwords.words(\"english\")"
   ]
  },
  {
   "cell_type": "code",
   "execution_count": 203,
   "metadata": {},
   "outputs": [],
   "source": [
    "test['tweet_text'] = test['tweet_text'].apply(lambda x: [word for word in x if word not in (stop) and len(word) > 1])"
   ]
  },
  {
   "cell_type": "code",
   "execution_count": 204,
   "metadata": {},
   "outputs": [
    {
     "name": "stdout",
     "output_type": "stream",
     "text": [
      "['naomi', 'osaka', 'upsets', 'serena', 'williams', 'controversial', 'us', 'open', 'final', 'cnn', 'smartnews']\n",
      "['go', 'girl', 'got', 'back', 'congrats', 'us', 'open']\n",
      "['probably', 'felt', 'like', 'friends', 'house', 'mom', 'started', 'yelling', 'usopen']\n",
      "['congrats', 'girly', 'let', 'anyone', 'take', 'moment', 'outplayed', 'everyone', 'even', 'goat', 'serena']\n",
      "['naomi', 'osaka', 'defeats', 'serena', 'williams', 'dramatic', 'us', 'open', 'final']\n",
      "['carlos', 'ramos', 'also', 'robbed', 'osaka', 'imagine', 'much', 'better', 'would', 'feel', 'broke', 'serena', 'go', 'instead', 'giving', 'game']\n",
      "['yes', 'bravo', 'bajin', 'course', 'love', 'always', 'since', 'turned', 'pro']\n",
      "['tennis', 'officials', 'coaches', 'seen', 'coaching', 'player', 'issue', 'warning', 'coach', 'called', 'ejected', 'better', 'yet', 'get', 'rid', 'coaching', 'signals', 'rule', 'altogether', 'player', 'helpless', 'effect', 'coachs', 'actions', 'mid', 'match']\n",
      "['naomi', 'osaka', 'tops', 'serena', 'williams', 'open', 'final', 'becomes', 'first', 'japanese', 'grand', 'slam', 'singles', 'champion', 'japan', 'times']\n"
     ]
    }
   ],
   "source": [
    "for tweet in test['tweet_text']:\n",
    "    print(tweet)"
   ]
  },
  {
   "cell_type": "markdown",
   "metadata": {},
   "source": [
    "### 2.1: Stemming/Lemmatization\n",
    "\n",
    "Reducing inflectional forms of words. After quick research, I've decided to try lemmatization im an attempt to better preserve linguistic meaning.\n",
    "\n",
    "> Lemmatization is a more effective option than stemming because it converts the word into its root word, rather than just stripping the suffices. It makes use of the vocabulary and does a morphological analysis to obtain the root word. Therefore, we usually prefer using lemmatization over stemming. ([Source](https://www.analyticsvidhya.com/blog/2018/02/the-different-methods-deal-text-data-predictive-python/))"
   ]
  },
  {
   "cell_type": "code",
   "execution_count": 205,
   "metadata": {},
   "outputs": [],
   "source": [
    "from textblob import Word"
   ]
  },
  {
   "cell_type": "code",
   "execution_count": 206,
   "metadata": {},
   "outputs": [],
   "source": [
    "test['tweet_text'] = test['tweet_text'].apply(lambda x: [Word(word).lemmatize() for word in x])"
   ]
  },
  {
   "cell_type": "code",
   "execution_count": 207,
   "metadata": {},
   "outputs": [
    {
     "name": "stdout",
     "output_type": "stream",
     "text": [
      "['naomi', 'osaka', 'upset', 'serena', 'williams', 'controversial', 'u', 'open', 'final', 'cnn', 'smartnews']\n",
      "['go', 'girl', 'got', 'back', 'congrats', 'u', 'open']\n",
      "['probably', 'felt', 'like', 'friend', 'house', 'mom', 'started', 'yelling', 'usopen']\n",
      "['congrats', 'girly', 'let', 'anyone', 'take', 'moment', 'outplayed', 'everyone', 'even', 'goat', 'serena']\n",
      "['naomi', 'osaka', 'defeat', 'serena', 'williams', 'dramatic', 'u', 'open', 'final']\n",
      "['carlos', 'ramos', 'also', 'robbed', 'osaka', 'imagine', 'much', 'better', 'would', 'feel', 'broke', 'serena', 'go', 'instead', 'giving', 'game']\n",
      "['yes', 'bravo', 'bajin', 'course', 'love', 'always', 'since', 'turned', 'pro']\n",
      "['tennis', 'official', 'coach', 'seen', 'coaching', 'player', 'issue', 'warning', 'coach', 'called', 'ejected', 'better', 'yet', 'get', 'rid', 'coaching', 'signal', 'rule', 'altogether', 'player', 'helpless', 'effect', 'coach', 'action', 'mid', 'match']\n",
      "['naomi', 'osaka', 'top', 'serena', 'williams', 'open', 'final', 'becomes', 'first', 'japanese', 'grand', 'slam', 'single', 'champion', 'japan', 'time']\n"
     ]
    }
   ],
   "source": [
    "for tweet in test['tweet_text']:\n",
    "    print(tweet)"
   ]
  },
  {
   "cell_type": "markdown",
   "metadata": {},
   "source": [
    "Again, removing words that have been reduced to single characters:"
   ]
  },
  {
   "cell_type": "code",
   "execution_count": 208,
   "metadata": {},
   "outputs": [],
   "source": [
    "test['tweet_text'] = test['tweet_text'].apply(lambda x: [word for word in x if len(word) > 1])"
   ]
  },
  {
   "cell_type": "code",
   "execution_count": 209,
   "metadata": {},
   "outputs": [
    {
     "name": "stdout",
     "output_type": "stream",
     "text": [
      "['naomi', 'osaka', 'upset', 'serena', 'williams', 'controversial', 'open', 'final', 'cnn', 'smartnews']\n",
      "['go', 'girl', 'got', 'back', 'congrats', 'open']\n",
      "['probably', 'felt', 'like', 'friend', 'house', 'mom', 'started', 'yelling', 'usopen']\n",
      "['congrats', 'girly', 'let', 'anyone', 'take', 'moment', 'outplayed', 'everyone', 'even', 'goat', 'serena']\n",
      "['naomi', 'osaka', 'defeat', 'serena', 'williams', 'dramatic', 'open', 'final']\n",
      "['carlos', 'ramos', 'also', 'robbed', 'osaka', 'imagine', 'much', 'better', 'would', 'feel', 'broke', 'serena', 'go', 'instead', 'giving', 'game']\n",
      "['yes', 'bravo', 'bajin', 'course', 'love', 'always', 'since', 'turned', 'pro']\n",
      "['tennis', 'official', 'coach', 'seen', 'coaching', 'player', 'issue', 'warning', 'coach', 'called', 'ejected', 'better', 'yet', 'get', 'rid', 'coaching', 'signal', 'rule', 'altogether', 'player', 'helpless', 'effect', 'coach', 'action', 'mid', 'match']\n",
      "['naomi', 'osaka', 'top', 'serena', 'williams', 'open', 'final', 'becomes', 'first', 'japanese', 'grand', 'slam', 'single', 'champion', 'japan', 'time']\n"
     ]
    }
   ],
   "source": [
    "for tweet in test['tweet_text']:\n",
    "    print(tweet)"
   ]
  },
  {
   "cell_type": "code",
   "execution_count": 210,
   "metadata": {},
   "outputs": [
    {
     "data": {
      "text/html": [
       "<div>\n",
       "<style scoped>\n",
       "    .dataframe tbody tr th:only-of-type {\n",
       "        vertical-align: middle;\n",
       "    }\n",
       "\n",
       "    .dataframe tbody tr th {\n",
       "        vertical-align: top;\n",
       "    }\n",
       "\n",
       "    .dataframe thead th {\n",
       "        text-align: right;\n",
       "    }\n",
       "</style>\n",
       "<table border=\"1\" class=\"dataframe\">\n",
       "  <thead>\n",
       "    <tr style=\"text-align: right;\">\n",
       "      <th></th>\n",
       "      <th>id</th>\n",
       "      <th>tweet_date</th>\n",
       "      <th>tweet_text</th>\n",
       "      <th>search query</th>\n",
       "    </tr>\n",
       "  </thead>\n",
       "  <tbody>\n",
       "    <tr>\n",
       "      <th>0</th>\n",
       "      <td>1</td>\n",
       "      <td>Sat Sep 08 19:59:59 +0000 2018</td>\n",
       "      <td>[naomi, osaka, upset, serena, williams, contro...</td>\n",
       "      <td>naomi osaka</td>\n",
       "    </tr>\n",
       "    <tr>\n",
       "      <th>1</th>\n",
       "      <td>2</td>\n",
       "      <td>Sat Sep 08 19:59:57 +0000 2018</td>\n",
       "      <td>[go, girl, got, back, congrats, open]</td>\n",
       "      <td>naomi osaka</td>\n",
       "    </tr>\n",
       "    <tr>\n",
       "      <th>2</th>\n",
       "      <td>6</td>\n",
       "      <td>Sat Sep 08 19:59:56 +0000 2018</td>\n",
       "      <td>[probably, felt, like, friend, house, mom, sta...</td>\n",
       "      <td>naomi osaka</td>\n",
       "    </tr>\n",
       "    <tr>\n",
       "      <th>3</th>\n",
       "      <td>7</td>\n",
       "      <td>Sat Sep 08 19:59:55 +0000 2018</td>\n",
       "      <td>[congrats, girly, let, anyone, take, moment, o...</td>\n",
       "      <td>naomi osaka</td>\n",
       "    </tr>\n",
       "    <tr>\n",
       "      <th>4</th>\n",
       "      <td>8</td>\n",
       "      <td>Sat Sep 08 19:59:55 +0000 2018</td>\n",
       "      <td>[naomi, osaka, defeat, serena, williams, drama...</td>\n",
       "      <td>naomi osaka</td>\n",
       "    </tr>\n",
       "    <tr>\n",
       "      <th>6</th>\n",
       "      <td>10</td>\n",
       "      <td>Sat Sep 08 19:59:54 +0000 2018</td>\n",
       "      <td>[carlos, ramos, also, robbed, osaka, imagine, ...</td>\n",
       "      <td>naomi osaka</td>\n",
       "    </tr>\n",
       "    <tr>\n",
       "      <th>7</th>\n",
       "      <td>11</td>\n",
       "      <td>Sat Sep 08 19:59:52 +0000 2018</td>\n",
       "      <td>[yes, bravo, bajin, course, love, always, sinc...</td>\n",
       "      <td>naomi osaka</td>\n",
       "    </tr>\n",
       "    <tr>\n",
       "      <th>8</th>\n",
       "      <td>12</td>\n",
       "      <td>Sat Sep 08 19:59:50 +0000 2018</td>\n",
       "      <td>[tennis, official, coach, seen, coaching, play...</td>\n",
       "      <td>naomi osaka</td>\n",
       "    </tr>\n",
       "    <tr>\n",
       "      <th>9</th>\n",
       "      <td>13</td>\n",
       "      <td>Sat Sep 08 19:59:50 +0000 2018</td>\n",
       "      <td>[naomi, osaka, top, serena, williams, open, fi...</td>\n",
       "      <td>naomi osaka</td>\n",
       "    </tr>\n",
       "  </tbody>\n",
       "</table>\n",
       "</div>"
      ],
      "text/plain": [
       "   id                      tweet_date  \\\n",
       "0   1  Sat Sep 08 19:59:59 +0000 2018   \n",
       "1   2  Sat Sep 08 19:59:57 +0000 2018   \n",
       "2   6  Sat Sep 08 19:59:56 +0000 2018   \n",
       "3   7  Sat Sep 08 19:59:55 +0000 2018   \n",
       "4   8  Sat Sep 08 19:59:55 +0000 2018   \n",
       "6  10  Sat Sep 08 19:59:54 +0000 2018   \n",
       "7  11  Sat Sep 08 19:59:52 +0000 2018   \n",
       "8  12  Sat Sep 08 19:59:50 +0000 2018   \n",
       "9  13  Sat Sep 08 19:59:50 +0000 2018   \n",
       "\n",
       "                                          tweet_text search query  \n",
       "0  [naomi, osaka, upset, serena, williams, contro...  naomi osaka  \n",
       "1              [go, girl, got, back, congrats, open]  naomi osaka  \n",
       "2  [probably, felt, like, friend, house, mom, sta...  naomi osaka  \n",
       "3  [congrats, girly, let, anyone, take, moment, o...  naomi osaka  \n",
       "4  [naomi, osaka, defeat, serena, williams, drama...  naomi osaka  \n",
       "6  [carlos, ramos, also, robbed, osaka, imagine, ...  naomi osaka  \n",
       "7  [yes, bravo, bajin, course, love, always, sinc...  naomi osaka  \n",
       "8  [tennis, official, coach, seen, coaching, play...  naomi osaka  \n",
       "9  [naomi, osaka, top, serena, williams, open, fi...  naomi osaka  "
      ]
     },
     "execution_count": 210,
     "metadata": {},
     "output_type": "execute_result"
    }
   ],
   "source": [
    "test"
   ]
  },
  {
   "cell_type": "markdown",
   "metadata": {},
   "source": [
    "We've done it! We've completed all the steps to preprocess the data and get it ready for analysis. Next, I'll be writing a script to go through and scrub the database of tweets I've collected so far. We'll save this output as a scrubbed tweets pickle file."
   ]
  },
  {
   "cell_type": "code",
   "execution_count": 212,
   "metadata": {},
   "outputs": [],
   "source": [
    "# saving a test scrubbing file\n",
    "test = df[:100].copy()\n",
    "test.to_pickle(\"./data/test.pkl\")"
   ]
  },
  {
   "cell_type": "code",
   "execution_count": null,
   "metadata": {},
   "outputs": [],
   "source": []
  }
 ],
 "metadata": {
  "kernelspec": {
   "display_name": "Python 3",
   "language": "python",
   "name": "python3"
  },
  "language_info": {
   "codemirror_mode": {
    "name": "ipython",
    "version": 3
   },
   "file_extension": ".py",
   "mimetype": "text/x-python",
   "name": "python",
   "nbconvert_exporter": "python",
   "pygments_lexer": "ipython3",
   "version": "3.6.6"
  }
 },
 "nbformat": 4,
 "nbformat_minor": 2
}

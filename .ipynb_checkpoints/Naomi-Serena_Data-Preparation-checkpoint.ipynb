{
 "cells": [
  {
   "cell_type": "markdown",
   "metadata": {},
   "source": [
    "# Data Cleaning and Preprocessing\n",
    "\n",
    "So in the Data Wrangling notebook I noted that I would need to clean and prepare the data for analysis, but I didn't realize just how many steps that would take. I ended up spending an entire notebook wrangling the data, trying to get it in the format I needed it in, and trying to access the specific data that I wanted in the first place (while ignoring irrelevant data).\n",
    "\n",
    "Now that I've got it in the format I want it in, I think I can take the time to clean it up and get it ready for analysis."
   ]
  },
  {
   "cell_type": "code",
   "execution_count": 21,
   "metadata": {},
   "outputs": [],
   "source": [
    "import pandas as pd"
   ]
  },
  {
   "cell_type": "code",
   "execution_count": 22,
   "metadata": {},
   "outputs": [],
   "source": [
    "df = pd.read_pickle(\"C:/Users/jzpow/Code/Projects/Naomi-Serena/data/naomi-serena-tweets.pkl\")"
   ]
  },
  {
   "cell_type": "code",
   "execution_count": 23,
   "metadata": {},
   "outputs": [
    {
     "data": {
      "text/html": [
       "<div>\n",
       "<style scoped>\n",
       "    .dataframe tbody tr th:only-of-type {\n",
       "        vertical-align: middle;\n",
       "    }\n",
       "\n",
       "    .dataframe tbody tr th {\n",
       "        vertical-align: top;\n",
       "    }\n",
       "\n",
       "    .dataframe thead th {\n",
       "        text-align: right;\n",
       "    }\n",
       "</style>\n",
       "<table border=\"1\" class=\"dataframe\">\n",
       "  <thead>\n",
       "    <tr style=\"text-align: right;\">\n",
       "      <th></th>\n",
       "      <th>id</th>\n",
       "      <th>tweet_date</th>\n",
       "      <th>tweet_text</th>\n",
       "      <th>search query</th>\n",
       "    </tr>\n",
       "  </thead>\n",
       "  <tbody>\n",
       "    <tr>\n",
       "      <th>0</th>\n",
       "      <td>1</td>\n",
       "      <td>Sat Sep 08 19:59:59 +0000 2018</td>\n",
       "      <td>Naomi Osaka upsets Serena Williams in controve...</td>\n",
       "      <td>naomi osaka</td>\n",
       "    </tr>\n",
       "    <tr>\n",
       "      <th>1</th>\n",
       "      <td>2</td>\n",
       "      <td>Sat Sep 08 19:59:57 +0000 2018</td>\n",
       "      <td>@ Naomi_Osaka_ , you go girl! I got your back!...</td>\n",
       "      <td>naomi osaka</td>\n",
       "    </tr>\n",
       "    <tr>\n",
       "      <th>5</th>\n",
       "      <td>6</td>\n",
       "      <td>Sat Sep 08 19:59:56 +0000 2018</td>\n",
       "      <td>@ Naomi_Osaka_ probably felt like she was at h...</td>\n",
       "      <td>naomi osaka</td>\n",
       "    </tr>\n",
       "    <tr>\n",
       "      <th>6</th>\n",
       "      <td>7</td>\n",
       "      <td>Sat Sep 08 19:59:55 +0000 2018</td>\n",
       "      <td>Congrats girly, don’t let anyone take this mom...</td>\n",
       "      <td>naomi osaka</td>\n",
       "    </tr>\n",
       "    <tr>\n",
       "      <th>7</th>\n",
       "      <td>8</td>\n",
       "      <td>Sat Sep 08 19:59:55 +0000 2018</td>\n",
       "      <td>Naomi Osaka defeats Serena Williams in a drama...</td>\n",
       "      <td>naomi osaka</td>\n",
       "    </tr>\n",
       "  </tbody>\n",
       "</table>\n",
       "</div>"
      ],
      "text/plain": [
       "   id                      tweet_date  \\\n",
       "0   1  Sat Sep 08 19:59:59 +0000 2018   \n",
       "1   2  Sat Sep 08 19:59:57 +0000 2018   \n",
       "5   6  Sat Sep 08 19:59:56 +0000 2018   \n",
       "6   7  Sat Sep 08 19:59:55 +0000 2018   \n",
       "7   8  Sat Sep 08 19:59:55 +0000 2018   \n",
       "\n",
       "                                          tweet_text search query  \n",
       "0  Naomi Osaka upsets Serena Williams in controve...  naomi osaka  \n",
       "1  @ Naomi_Osaka_ , you go girl! I got your back!...  naomi osaka  \n",
       "5  @ Naomi_Osaka_ probably felt like she was at h...  naomi osaka  \n",
       "6  Congrats girly, don’t let anyone take this mom...  naomi osaka  \n",
       "7  Naomi Osaka defeats Serena Williams in a drama...  naomi osaka  "
      ]
     },
     "execution_count": 23,
     "metadata": {},
     "output_type": "execute_result"
    }
   ],
   "source": [
    "df.head()"
   ]
  },
  {
   "cell_type": "code",
   "execution_count": 24,
   "metadata": {},
   "outputs": [
    {
     "name": "stdout",
     "output_type": "stream",
     "text": [
      "<class 'pandas.core.frame.DataFrame'>\n",
      "Int64Index: 23828 entries, 0 to 14998\n",
      "Data columns (total 4 columns):\n",
      "id              23828 non-null int64\n",
      "tweet_date      23828 non-null object\n",
      "tweet_text      23828 non-null object\n",
      "search query    23828 non-null object\n",
      "dtypes: int64(1), object(3)\n",
      "memory usage: 930.8+ KB\n"
     ]
    }
   ],
   "source": [
    "df.info()"
   ]
  },
  {
   "cell_type": "code",
   "execution_count": 25,
   "metadata": {},
   "outputs": [],
   "source": [
    "df = df.reset_index(drop = True)"
   ]
  },
  {
   "cell_type": "code",
   "execution_count": 26,
   "metadata": {},
   "outputs": [
    {
     "data": {
      "text/plain": [
       "0     Naomi Osaka upsets Serena Williams in controve...\n",
       "1     @ Naomi_Osaka_ , you go girl! I got your back!...\n",
       "2     @ Naomi_Osaka_ probably felt like she was at h...\n",
       "3     Congrats girly, don’t let anyone take this mom...\n",
       "4     Naomi Osaka defeats Serena Williams in a drama...\n",
       "5     https://twitter.com/juventino5555/status/10377...\n",
       "6     Carlos Ramos also robbed Osaka. Imagine how mu...\n",
       "7     Yes Bravo to @ BigSascha Bajin And of course l...\n",
       "8     Tennis officials.. where coaches are seen coac...\n",
       "9     Naomi Osaka tops Serena Williams in U.S. Open ...\n",
       "10    Booing damn Naomi Osaka won the girl was cooki...\n",
       "11    You should take the with you @ Naomi_Osaka_ Co...\n",
       "12    @ Naomi_Osaka_ Congratulaions. . . who were te...\n",
       "13    The proof that something can be done is when y...\n",
       "14    Her ambition, she once told a reporter, was “t...\n",
       "15    [FULL] 2018 US Open trophy ceremony with Seren...\n",
       "16    What's happening? Part 1. Naomi Osaka vs Seren...\n",
       "17    @ Naomi_Osaka_ Congratulations You are proud o...\n",
       "18    You're not a true fan of @ serenawilliams sere...\n",
       "19    I honestly think Serena knew she was going to ...\n",
       "20                Worst crowd. That makes japanese sad.\n",
       "21    Congratulations @ Naomi_Osaka_ # 3StripeLifeht...\n",
       "22    Fuck you. Naomi Osaka is diverse as well; Hait...\n",
       "23    So @ Naomi_Osaka_ is Haitian & Japanese. I jus...\n",
       "24    @ Naomi_Osaka_ You are a class act! I can’t wa...\n",
       "25    naomi osaka is also my hero and i look forward...\n",
       "26    I love @ serenawilliams but this @ Naomi_Osaka...\n",
       "27    @ Naomi_Osaka_ Congratulations on your win tod...\n",
       "28                                   Whoa Naomi Osaka!!\n",
       "29    And it's usually when she is losing.....Just s...\n",
       "                            ...                        \n",
       "70    Congrats to Naomi Osaka!! Amazing performance ...\n",
       "71    Congratulations.. On your success., Naomi Osak...\n",
       "72    Heartiest Congratulations to @ Naomi_Osaka_ , ...\n",
       "73    Serena Williams lost to Naomi Osaka after gett...\n",
       "74           Serena should name her next kid Deflection\n",
       "75    The other bit. The big bit. The entire match b...\n",
       "76    A real winner even when losing. Classy @ seren...\n",
       "77                          LETS GO!!!!! @ Naomi_Osaka_\n",
       "78    I fully agree with those who say this was tota...\n",
       "79    So congratulations, @ Naomi_Osaka_ You played ...\n",
       "80    She mad because of sexism? by that you agreed ...\n",
       "81    The crowd wasn't booing Naomi's win. And I did...\n",
       "82    NEW YORK — Serena Williams was beaten by Naomi...\n",
       "83                                               Earned\n",
       "84    Is Naomi Osaka a dual or triple citizen? (Trip...\n",
       "85    She got screwed by the ump. She was getting th...\n",
       "86    Congratulations @ Naomi_Osaka_ You showed how ...\n",
       "87    Sorry americans were rude to you today. Enjoy ...\n",
       "88    @ serenawilliams Stop making this into a gende...\n",
       "89    The US Open crowd was rude,unpolite and awaful...\n",
       "90    You are a sports man I'm glad you understand t...\n",
       "91    What a bloody champion at 20 y/o @ Naomi_Osaka...\n",
       "92    @ Naomi_Osaka_ Congratulations on your first m...\n",
       "93    US Open 2018: Serena Williams falls to Naomi O...\n",
       "94    I'm glad it's not just me. One of the greatest...\n",
       "95    Serena's coach admitted to coaching. It's not ...\n",
       "96    Congrats miss! Big round of applause for you a...\n",
       "97    And the fact that Naomi Osaka has to continue ...\n",
       "98    The crowd booing after the match was disgustin...\n",
       "99    Naomi Osaka wins US Open title after Serena Wi...\n",
       "Name: tweet_text, Length: 100, dtype: object"
      ]
     },
     "execution_count": 26,
     "metadata": {},
     "output_type": "execute_result"
    }
   ],
   "source": [
    "df['tweet_text'][:100]"
   ]
  },
  {
   "cell_type": "markdown",
   "metadata": {},
   "source": [
    "So from examining a few rows of the tweet data, I can see a few things that can be cleaned up:\n",
    "\n",
    "* links\n",
    "* hashtags (i.e. #3StripeLife)\n",
    "* mentions (i.e. @ Naomi_Osaka_ or @ serenawilliams\n",
    "* misspellings (i.e. \"awaful\")\n",
    "* headlines (i.e. [FULL] 2018 US Open Trophy...)\n",
    "* slang (i.e. She got screwed by the ump)\n",
    "\n",
    "I'm not sure I can clean all of these up, but I can at least do a little bit. So let's get started!\n",
    "\n",
    "*The preprocessing done in this notebook is based on the following tutorial: https://www.kdnuggets.com/2018/03/text-data-preprocessing-walkthrough-python.html*"
   ]
  },
  {
   "cell_type": "code",
   "execution_count": 29,
   "metadata": {},
   "outputs": [
    {
     "data": {
      "text/html": [
       "<div>\n",
       "<style scoped>\n",
       "    .dataframe tbody tr th:only-of-type {\n",
       "        vertical-align: middle;\n",
       "    }\n",
       "\n",
       "    .dataframe tbody tr th {\n",
       "        vertical-align: top;\n",
       "    }\n",
       "\n",
       "    .dataframe thead th {\n",
       "        text-align: right;\n",
       "    }\n",
       "</style>\n",
       "<table border=\"1\" class=\"dataframe\">\n",
       "  <thead>\n",
       "    <tr style=\"text-align: right;\">\n",
       "      <th></th>\n",
       "      <th>id</th>\n",
       "      <th>tweet_date</th>\n",
       "      <th>tweet_text</th>\n",
       "      <th>search query</th>\n",
       "    </tr>\n",
       "  </thead>\n",
       "  <tbody>\n",
       "    <tr>\n",
       "      <th>0</th>\n",
       "      <td>1</td>\n",
       "      <td>Sat Sep 08 19:59:59 +0000 2018</td>\n",
       "      <td>Naomi Osaka upsets Serena Williams in controve...</td>\n",
       "      <td>naomi osaka</td>\n",
       "    </tr>\n",
       "    <tr>\n",
       "      <th>1</th>\n",
       "      <td>2</td>\n",
       "      <td>Sat Sep 08 19:59:57 +0000 2018</td>\n",
       "      <td>@ Naomi_Osaka_ , you go girl! I got your back!...</td>\n",
       "      <td>naomi osaka</td>\n",
       "    </tr>\n",
       "    <tr>\n",
       "      <th>2</th>\n",
       "      <td>6</td>\n",
       "      <td>Sat Sep 08 19:59:56 +0000 2018</td>\n",
       "      <td>@ Naomi_Osaka_ probably felt like she was at h...</td>\n",
       "      <td>naomi osaka</td>\n",
       "    </tr>\n",
       "    <tr>\n",
       "      <th>3</th>\n",
       "      <td>7</td>\n",
       "      <td>Sat Sep 08 19:59:55 +0000 2018</td>\n",
       "      <td>Congrats girly, don’t let anyone take this mom...</td>\n",
       "      <td>naomi osaka</td>\n",
       "    </tr>\n",
       "    <tr>\n",
       "      <th>4</th>\n",
       "      <td>8</td>\n",
       "      <td>Sat Sep 08 19:59:55 +0000 2018</td>\n",
       "      <td>Naomi Osaka defeats Serena Williams in a drama...</td>\n",
       "      <td>naomi osaka</td>\n",
       "    </tr>\n",
       "    <tr>\n",
       "      <th>5</th>\n",
       "      <td>9</td>\n",
       "      <td>Sat Sep 08 19:59:55 +0000 2018</td>\n",
       "      <td>https://twitter.com/juventino5555/status/10377...</td>\n",
       "      <td>naomi osaka</td>\n",
       "    </tr>\n",
       "    <tr>\n",
       "      <th>6</th>\n",
       "      <td>10</td>\n",
       "      <td>Sat Sep 08 19:59:54 +0000 2018</td>\n",
       "      <td>Carlos Ramos also robbed Osaka. Imagine how mu...</td>\n",
       "      <td>naomi osaka</td>\n",
       "    </tr>\n",
       "    <tr>\n",
       "      <th>7</th>\n",
       "      <td>11</td>\n",
       "      <td>Sat Sep 08 19:59:52 +0000 2018</td>\n",
       "      <td>Yes Bravo to @ BigSascha Bajin And of course l...</td>\n",
       "      <td>naomi osaka</td>\n",
       "    </tr>\n",
       "    <tr>\n",
       "      <th>8</th>\n",
       "      <td>12</td>\n",
       "      <td>Sat Sep 08 19:59:50 +0000 2018</td>\n",
       "      <td>Tennis officials.. where coaches are seen coac...</td>\n",
       "      <td>naomi osaka</td>\n",
       "    </tr>\n",
       "    <tr>\n",
       "      <th>9</th>\n",
       "      <td>13</td>\n",
       "      <td>Sat Sep 08 19:59:50 +0000 2018</td>\n",
       "      <td>Naomi Osaka tops Serena Williams in U.S. Open ...</td>\n",
       "      <td>naomi osaka</td>\n",
       "    </tr>\n",
       "  </tbody>\n",
       "</table>\n",
       "</div>"
      ],
      "text/plain": [
       "   id                      tweet_date  \\\n",
       "0   1  Sat Sep 08 19:59:59 +0000 2018   \n",
       "1   2  Sat Sep 08 19:59:57 +0000 2018   \n",
       "2   6  Sat Sep 08 19:59:56 +0000 2018   \n",
       "3   7  Sat Sep 08 19:59:55 +0000 2018   \n",
       "4   8  Sat Sep 08 19:59:55 +0000 2018   \n",
       "5   9  Sat Sep 08 19:59:55 +0000 2018   \n",
       "6  10  Sat Sep 08 19:59:54 +0000 2018   \n",
       "7  11  Sat Sep 08 19:59:52 +0000 2018   \n",
       "8  12  Sat Sep 08 19:59:50 +0000 2018   \n",
       "9  13  Sat Sep 08 19:59:50 +0000 2018   \n",
       "\n",
       "                                          tweet_text search query  \n",
       "0  Naomi Osaka upsets Serena Williams in controve...  naomi osaka  \n",
       "1  @ Naomi_Osaka_ , you go girl! I got your back!...  naomi osaka  \n",
       "2  @ Naomi_Osaka_ probably felt like she was at h...  naomi osaka  \n",
       "3  Congrats girly, don’t let anyone take this mom...  naomi osaka  \n",
       "4  Naomi Osaka defeats Serena Williams in a drama...  naomi osaka  \n",
       "5  https://twitter.com/juventino5555/status/10377...  naomi osaka  \n",
       "6  Carlos Ramos also robbed Osaka. Imagine how mu...  naomi osaka  \n",
       "7  Yes Bravo to @ BigSascha Bajin And of course l...  naomi osaka  \n",
       "8  Tennis officials.. where coaches are seen coac...  naomi osaka  \n",
       "9  Naomi Osaka tops Serena Williams in U.S. Open ...  naomi osaka  "
      ]
     },
     "execution_count": 29,
     "metadata": {},
     "output_type": "execute_result"
    }
   ],
   "source": [
    "test = df[:10].copy()\n",
    "test"
   ]
  },
  {
   "cell_type": "markdown",
   "metadata": {},
   "source": [
    "## Step 0: Text Normalization\n",
    "\n",
    "What the tutorial calls \"noise removal.\" Noise removal is task-specific, meaning we need to take our data into consideration when removing the noise.\n",
    "\n",
    "For this tweet data, it looks like we'll want to remove hashtags, links and mentions."
   ]
  },
  {
   "cell_type": "code",
   "execution_count": 30,
   "metadata": {
    "scrolled": false
   },
   "outputs": [
    {
     "name": "stdout",
     "output_type": "stream",
     "text": [
      "Naomi Osaka upsets Serena Williams in controversial US Open final - CNN # SmartNewshttps://edition.cnn.com/2018/09/08/sport/naomi-osaka-serena-williams-us-open-tennis-int-spt/index.html …\n",
      "@ Naomi_Osaka_ , you go girl! I got your back! Congrats on the US open!\n",
      "@ Naomi_Osaka_ probably felt like she was at her friend’s house when their mom started yelling at them # usopen\n",
      "Congrats girly, don’t let anyone take this moment from you..you outplayed everyone, even the GOAT Serena @ Naomi_Osaka_\n",
      "Naomi Osaka defeats Serena Williams in a dramatic US Open final https://twitter.com/i/events/1038540032330493952 …\n",
      "https://twitter.com/juventino5555/status/1037768949109276672?s=19 …\n",
      "Carlos Ramos also robbed Osaka. Imagine how much better she would feel if she broke Serena to go up 5-3 instead of being giving the game.\n",
      "Yes Bravo to @ BigSascha Bajin And of course love as always (since she turned pro!) to @ Naomi_Osaka_ https://twitter.com/bgtennisnation/status/1038563742961881090 …\n",
      "Tennis officials.. where coaches are seen coaching their player.. why not issue a warning to the coach.. and if he is called on it again, he is ejected. Better yet.. get rid of the coaching signals rule altogether..A player is helpless to effect their coach’s actions mid match.\n",
      "Naomi Osaka tops Serena Williams in U.S. Open final, becomes first Japanese grand slam singles champion | The Japan Times https://www.japantimes.co.jp/sports/2018/09/09/more-sports/tennis/naomi-osaka-tops-serena-williams-u-s-open-final-becomes-first-japanese-grand-slam-singles-champion/#.W5Ric76cSlQ.twitter …\n"
     ]
    }
   ],
   "source": [
    "for tweet in test['tweet_text']:\n",
    "    print(tweet)"
   ]
  },
  {
   "cell_type": "markdown",
   "metadata": {},
   "source": [
    "### 0.0: Remove Hyperlinks"
   ]
  },
  {
   "cell_type": "code",
   "execution_count": 31,
   "metadata": {},
   "outputs": [],
   "source": [
    "import re"
   ]
  },
  {
   "cell_type": "code",
   "execution_count": 32,
   "metadata": {},
   "outputs": [],
   "source": [
    "url_pattern = \"http[^\\s]+\\s?…?\""
   ]
  },
  {
   "cell_type": "code",
   "execution_count": 33,
   "metadata": {},
   "outputs": [],
   "source": [
    "# for tweet in test.loc[test['tweet_text']]:\n",
    "#     if re.search(url_pattern, tweet) is not None:\n",
    "#         tweet = re.sub(url_pattern, ' ', tweet)\n",
    "#     else:\n",
    "#         pass"
   ]
  },
  {
   "cell_type": "code",
   "execution_count": 40,
   "metadata": {},
   "outputs": [],
   "source": [
    "test.loc[test['tweet_text'].str.contains(\"http\")] = \"TEST\""
   ]
  },
  {
   "cell_type": "code",
   "execution_count": 41,
   "metadata": {},
   "outputs": [
    {
     "data": {
      "text/plain": [
       "0                                                 TEST\n",
       "1    @ Naomi_Osaka_ , you go girl! I got your back!...\n",
       "2    @ Naomi_Osaka_ probably felt like she was at h...\n",
       "3    Congrats girly, don’t let anyone take this mom...\n",
       "4                                                 TEST\n",
       "5                                                 TEST\n",
       "6    Carlos Ramos also robbed Osaka. Imagine how mu...\n",
       "7                                                 TEST\n",
       "8    Tennis officials.. where coaches are seen coac...\n",
       "9                                                 TEST\n",
       "Name: tweet_text, dtype: object"
      ]
     },
     "execution_count": 41,
     "metadata": {},
     "output_type": "execute_result"
    }
   ],
   "source": [
    "test.loc[:, 'tweet_text'].str.replace(url_pattern, \" \", regex=True)"
   ]
  },
  {
   "cell_type": "code",
   "execution_count": 42,
   "metadata": {},
   "outputs": [
    {
     "data": {
      "text/html": [
       "<div>\n",
       "<style scoped>\n",
       "    .dataframe tbody tr th:only-of-type {\n",
       "        vertical-align: middle;\n",
       "    }\n",
       "\n",
       "    .dataframe tbody tr th {\n",
       "        vertical-align: top;\n",
       "    }\n",
       "\n",
       "    .dataframe thead th {\n",
       "        text-align: right;\n",
       "    }\n",
       "</style>\n",
       "<table border=\"1\" class=\"dataframe\">\n",
       "  <thead>\n",
       "    <tr style=\"text-align: right;\">\n",
       "      <th></th>\n",
       "      <th>id</th>\n",
       "      <th>tweet_date</th>\n",
       "      <th>tweet_text</th>\n",
       "      <th>search query</th>\n",
       "    </tr>\n",
       "  </thead>\n",
       "  <tbody>\n",
       "    <tr>\n",
       "      <th>0</th>\n",
       "      <td>TEST</td>\n",
       "      <td>TEST</td>\n",
       "      <td>TEST</td>\n",
       "      <td>TEST</td>\n",
       "    </tr>\n",
       "    <tr>\n",
       "      <th>1</th>\n",
       "      <td>2</td>\n",
       "      <td>Sat Sep 08 19:59:57 +0000 2018</td>\n",
       "      <td>@ Naomi_Osaka_ , you go girl! I got your back!...</td>\n",
       "      <td>naomi osaka</td>\n",
       "    </tr>\n",
       "    <tr>\n",
       "      <th>2</th>\n",
       "      <td>6</td>\n",
       "      <td>Sat Sep 08 19:59:56 +0000 2018</td>\n",
       "      <td>@ Naomi_Osaka_ probably felt like she was at h...</td>\n",
       "      <td>naomi osaka</td>\n",
       "    </tr>\n",
       "    <tr>\n",
       "      <th>3</th>\n",
       "      <td>7</td>\n",
       "      <td>Sat Sep 08 19:59:55 +0000 2018</td>\n",
       "      <td>Congrats girly, don’t let anyone take this mom...</td>\n",
       "      <td>naomi osaka</td>\n",
       "    </tr>\n",
       "    <tr>\n",
       "      <th>4</th>\n",
       "      <td>TEST</td>\n",
       "      <td>TEST</td>\n",
       "      <td>TEST</td>\n",
       "      <td>TEST</td>\n",
       "    </tr>\n",
       "    <tr>\n",
       "      <th>5</th>\n",
       "      <td>TEST</td>\n",
       "      <td>TEST</td>\n",
       "      <td>TEST</td>\n",
       "      <td>TEST</td>\n",
       "    </tr>\n",
       "    <tr>\n",
       "      <th>6</th>\n",
       "      <td>10</td>\n",
       "      <td>Sat Sep 08 19:59:54 +0000 2018</td>\n",
       "      <td>Carlos Ramos also robbed Osaka. Imagine how mu...</td>\n",
       "      <td>naomi osaka</td>\n",
       "    </tr>\n",
       "    <tr>\n",
       "      <th>7</th>\n",
       "      <td>TEST</td>\n",
       "      <td>TEST</td>\n",
       "      <td>TEST</td>\n",
       "      <td>TEST</td>\n",
       "    </tr>\n",
       "    <tr>\n",
       "      <th>8</th>\n",
       "      <td>12</td>\n",
       "      <td>Sat Sep 08 19:59:50 +0000 2018</td>\n",
       "      <td>Tennis officials.. where coaches are seen coac...</td>\n",
       "      <td>naomi osaka</td>\n",
       "    </tr>\n",
       "    <tr>\n",
       "      <th>9</th>\n",
       "      <td>TEST</td>\n",
       "      <td>TEST</td>\n",
       "      <td>TEST</td>\n",
       "      <td>TEST</td>\n",
       "    </tr>\n",
       "  </tbody>\n",
       "</table>\n",
       "</div>"
      ],
      "text/plain": [
       "     id                      tweet_date  \\\n",
       "0  TEST                            TEST   \n",
       "1     2  Sat Sep 08 19:59:57 +0000 2018   \n",
       "2     6  Sat Sep 08 19:59:56 +0000 2018   \n",
       "3     7  Sat Sep 08 19:59:55 +0000 2018   \n",
       "4  TEST                            TEST   \n",
       "5  TEST                            TEST   \n",
       "6    10  Sat Sep 08 19:59:54 +0000 2018   \n",
       "7  TEST                            TEST   \n",
       "8    12  Sat Sep 08 19:59:50 +0000 2018   \n",
       "9  TEST                            TEST   \n",
       "\n",
       "                                          tweet_text search query  \n",
       "0                                               TEST         TEST  \n",
       "1  @ Naomi_Osaka_ , you go girl! I got your back!...  naomi osaka  \n",
       "2  @ Naomi_Osaka_ probably felt like she was at h...  naomi osaka  \n",
       "3  Congrats girly, don’t let anyone take this mom...  naomi osaka  \n",
       "4                                               TEST         TEST  \n",
       "5                                               TEST         TEST  \n",
       "6  Carlos Ramos also robbed Osaka. Imagine how mu...  naomi osaka  \n",
       "7                                               TEST         TEST  \n",
       "8  Tennis officials.. where coaches are seen coac...  naomi osaka  \n",
       "9                                               TEST         TEST  "
      ]
     },
     "execution_count": 42,
     "metadata": {},
     "output_type": "execute_result"
    }
   ],
   "source": [
    "test"
   ]
  },
  {
   "cell_type": "code",
   "execution_count": 18,
   "metadata": {},
   "outputs": [
    {
     "data": {
      "text/plain": [
       "id                                           9\n",
       "tweet_date      Sat Sep 08 19:59:55 +0000 2018\n",
       "tweet_text                                    \n",
       "search query                       naomi osaka\n",
       "Name: 5, dtype: object"
      ]
     },
     "execution_count": 18,
     "metadata": {},
     "output_type": "execute_result"
    }
   ],
   "source": [
    "test.iloc[5]"
   ]
  },
  {
   "cell_type": "code",
   "execution_count": 75,
   "metadata": {},
   "outputs": [
    {
     "name": "stdout",
     "output_type": "stream",
     "text": [
      "Naomi Osaka upsets Serena Williams in controversial US Open final - CNN # SmartNews …\n",
      "@ Naomi_Osaka_ , you go girl! I got your back! Congrats on the US open!\n",
      "@ Naomi_Osaka_ probably felt like she was at her friend’s house when their mom started yelling at them # usopen\n",
      "Congrats girly, don’t let anyone take this moment from you..you outplayed everyone, even the GOAT Serena @ Naomi_Osaka_\n",
      "Naomi Osaka defeats Serena Williams in a dramatic US Open final  …\n",
      " …\n",
      "Carlos Ramos also robbed Osaka. Imagine how much better she would feel if she broke Serena to go up 5-3 instead of being giving the game.\n",
      "Yes Bravo to @ BigSascha Bajin And of course love as always (since she turned pro!) to @ Naomi_Osaka_  …\n",
      "Tennis officials.. where coaches are seen coaching their player.. why not issue a warning to the coach.. and if he is called on it again, he is ejected. Better yet.. get rid of the coaching signals rule altogether..A player is helpless to effect their coach’s actions mid match.\n",
      "Naomi Osaka tops Serena Williams in U.S. Open final, becomes first Japanese grand slam singles champion | The Japan Times  …\n",
      "nan\n"
     ]
    }
   ],
   "source": [
    "for tweet in test['tweet_text']:\n",
    "    print(tweet)"
   ]
  },
  {
   "cell_type": "markdown",
   "metadata": {},
   "source": [
    "### 0.1: Remove Mentions"
   ]
  },
  {
   "cell_type": "code",
   "execution_count": 77,
   "metadata": {},
   "outputs": [],
   "source": [
    "mentions_pattern = '@\\s[A-Za-z0-9_]+'"
   ]
  },
  {
   "cell_type": "code",
   "execution_count": 81,
   "metadata": {},
   "outputs": [
    {
     "data": {
      "text/plain": [
       "0             Naomi Osaka upsets Serena Williams in controve...\n",
       "1               , you go girl! I got your back! Congrats on ...\n",
       "2               probably felt like she was at her friend’s h...\n",
       "3             Congrats girly, don’t let anyone take this mom...\n",
       "4             Naomi Osaka defeats Serena Williams in a drama...\n",
       "5                                                             …\n",
       "6             Carlos Ramos also robbed Osaka. Imagine how mu...\n",
       "7             Yes Bravo to   Bajin And of course love as alw...\n",
       "8             Tennis officials.. where coaches are seen coac...\n",
       "9             Naomi Osaka tops Serena Williams in U.S. Open ...\n",
       "tweet_text                                                  NaN\n",
       "Name: tweet_text, dtype: object"
      ]
     },
     "execution_count": 81,
     "metadata": {},
     "output_type": "execute_result"
    }
   ],
   "source": [
    "test.loc[:, 'tweet_text'].str.replace(mentions_pattern, \" \", regex=True)"
   ]
  },
  {
   "cell_type": "code",
   "execution_count": 82,
   "metadata": {},
   "outputs": [
    {
     "data": {
      "text/html": [
       "<div>\n",
       "<style scoped>\n",
       "    .dataframe tbody tr th:only-of-type {\n",
       "        vertical-align: middle;\n",
       "    }\n",
       "\n",
       "    .dataframe tbody tr th {\n",
       "        vertical-align: top;\n",
       "    }\n",
       "\n",
       "    .dataframe thead th {\n",
       "        text-align: right;\n",
       "    }\n",
       "</style>\n",
       "<table border=\"1\" class=\"dataframe\">\n",
       "  <thead>\n",
       "    <tr style=\"text-align: right;\">\n",
       "      <th></th>\n",
       "      <th>id</th>\n",
       "      <th>tweet_date</th>\n",
       "      <th>tweet_text</th>\n",
       "      <th>search query</th>\n",
       "    </tr>\n",
       "  </thead>\n",
       "  <tbody>\n",
       "    <tr>\n",
       "      <th>0</th>\n",
       "      <td>1.0</td>\n",
       "      <td>Sat Sep 08 19:59:59 +0000 2018</td>\n",
       "      <td>Naomi Osaka upsets Serena Williams in controve...</td>\n",
       "      <td>naomi osaka</td>\n",
       "    </tr>\n",
       "    <tr>\n",
       "      <th>1</th>\n",
       "      <td>2.0</td>\n",
       "      <td>Sat Sep 08 19:59:57 +0000 2018</td>\n",
       "      <td>, you go girl! I got your back! Congrats on ...</td>\n",
       "      <td>naomi osaka</td>\n",
       "    </tr>\n",
       "    <tr>\n",
       "      <th>2</th>\n",
       "      <td>6.0</td>\n",
       "      <td>Sat Sep 08 19:59:56 +0000 2018</td>\n",
       "      <td>probably felt like she was at her friend’s h...</td>\n",
       "      <td>naomi osaka</td>\n",
       "    </tr>\n",
       "    <tr>\n",
       "      <th>3</th>\n",
       "      <td>7.0</td>\n",
       "      <td>Sat Sep 08 19:59:55 +0000 2018</td>\n",
       "      <td>Congrats girly, don’t let anyone take this mom...</td>\n",
       "      <td>naomi osaka</td>\n",
       "    </tr>\n",
       "    <tr>\n",
       "      <th>4</th>\n",
       "      <td>8.0</td>\n",
       "      <td>Sat Sep 08 19:59:55 +0000 2018</td>\n",
       "      <td>Naomi Osaka defeats Serena Williams in a drama...</td>\n",
       "      <td>naomi osaka</td>\n",
       "    </tr>\n",
       "    <tr>\n",
       "      <th>5</th>\n",
       "      <td>9.0</td>\n",
       "      <td>Sat Sep 08 19:59:55 +0000 2018</td>\n",
       "      <td>…</td>\n",
       "      <td>naomi osaka</td>\n",
       "    </tr>\n",
       "    <tr>\n",
       "      <th>6</th>\n",
       "      <td>10.0</td>\n",
       "      <td>Sat Sep 08 19:59:54 +0000 2018</td>\n",
       "      <td>Carlos Ramos also robbed Osaka. Imagine how mu...</td>\n",
       "      <td>naomi osaka</td>\n",
       "    </tr>\n",
       "    <tr>\n",
       "      <th>7</th>\n",
       "      <td>11.0</td>\n",
       "      <td>Sat Sep 08 19:59:52 +0000 2018</td>\n",
       "      <td>Yes Bravo to   Bajin And of course love as alw...</td>\n",
       "      <td>naomi osaka</td>\n",
       "    </tr>\n",
       "    <tr>\n",
       "      <th>8</th>\n",
       "      <td>12.0</td>\n",
       "      <td>Sat Sep 08 19:59:50 +0000 2018</td>\n",
       "      <td>Tennis officials.. where coaches are seen coac...</td>\n",
       "      <td>naomi osaka</td>\n",
       "    </tr>\n",
       "    <tr>\n",
       "      <th>9</th>\n",
       "      <td>13.0</td>\n",
       "      <td>Sat Sep 08 19:59:50 +0000 2018</td>\n",
       "      <td>Naomi Osaka tops Serena Williams in U.S. Open ...</td>\n",
       "      <td>naomi osaka</td>\n",
       "    </tr>\n",
       "    <tr>\n",
       "      <th>tweet_text</th>\n",
       "      <td>NaN</td>\n",
       "      <td>NaN</td>\n",
       "      <td>NaN</td>\n",
       "      <td>NaN</td>\n",
       "    </tr>\n",
       "  </tbody>\n",
       "</table>\n",
       "</div>"
      ],
      "text/plain": [
       "              id                      tweet_date  \\\n",
       "0            1.0  Sat Sep 08 19:59:59 +0000 2018   \n",
       "1            2.0  Sat Sep 08 19:59:57 +0000 2018   \n",
       "2            6.0  Sat Sep 08 19:59:56 +0000 2018   \n",
       "3            7.0  Sat Sep 08 19:59:55 +0000 2018   \n",
       "4            8.0  Sat Sep 08 19:59:55 +0000 2018   \n",
       "5            9.0  Sat Sep 08 19:59:55 +0000 2018   \n",
       "6           10.0  Sat Sep 08 19:59:54 +0000 2018   \n",
       "7           11.0  Sat Sep 08 19:59:52 +0000 2018   \n",
       "8           12.0  Sat Sep 08 19:59:50 +0000 2018   \n",
       "9           13.0  Sat Sep 08 19:59:50 +0000 2018   \n",
       "tweet_text   NaN                             NaN   \n",
       "\n",
       "                                                   tweet_text search query  \n",
       "0           Naomi Osaka upsets Serena Williams in controve...  naomi osaka  \n",
       "1             , you go girl! I got your back! Congrats on ...  naomi osaka  \n",
       "2             probably felt like she was at her friend’s h...  naomi osaka  \n",
       "3           Congrats girly, don’t let anyone take this mom...  naomi osaka  \n",
       "4           Naomi Osaka defeats Serena Williams in a drama...  naomi osaka  \n",
       "5                                                           …  naomi osaka  \n",
       "6           Carlos Ramos also robbed Osaka. Imagine how mu...  naomi osaka  \n",
       "7           Yes Bravo to   Bajin And of course love as alw...  naomi osaka  \n",
       "8           Tennis officials.. where coaches are seen coac...  naomi osaka  \n",
       "9           Naomi Osaka tops Serena Williams in U.S. Open ...  naomi osaka  \n",
       "tweet_text                                                NaN          NaN  "
      ]
     },
     "execution_count": 82,
     "metadata": {},
     "output_type": "execute_result"
    }
   ],
   "source": [
    "test"
   ]
  },
  {
   "cell_type": "markdown",
   "metadata": {},
   "source": [
    "I figured out how to update the rows without getting the `SettingwithCopyWarning`: you have to indicate all rows `:` and then the desired column. I'm going to update the above code to reflect this."
   ]
  },
  {
   "cell_type": "code",
   "execution_count": null,
   "metadata": {},
   "outputs": [],
   "source": []
  }
 ],
 "metadata": {
  "kernelspec": {
   "display_name": "Python 3",
   "language": "python",
   "name": "python3"
  },
  "language_info": {
   "codemirror_mode": {
    "name": "ipython",
    "version": 3
   },
   "file_extension": ".py",
   "mimetype": "text/x-python",
   "name": "python",
   "nbconvert_exporter": "python",
   "pygments_lexer": "ipython3",
   "version": "3.6.6"
  }
 },
 "nbformat": 4,
 "nbformat_minor": 2
}
